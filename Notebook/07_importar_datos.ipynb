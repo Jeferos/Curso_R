{
 "cells": [
  {
   "cell_type": "markdown",
   "metadata": {},
   "source": [
    "## Importar Datos en R\n",
    "0. Preliminares\n",
    "  \n",
    "La importación de datos es un proceso en el cual accedemos a data sets en diferentes formatos para utilizarlos en R.\n",
    "Algunos de los formatos que vamos a leer en esta unidad son: .csv, .txt, .xls y dta.\n",
    "Asimismo, podemos importar datos de numerosas fuentes: paquetes estadísticos, ficheros de texto, bases de datos, hojas de cálculo, etc.\n",
    "  \n",
    "Antes de importar datos, debemos fijar el directorio de trabajo (\"working ditectory\")"
   ]
  },
  {
   "cell_type": "code",
   "execution_count": 1,
   "metadata": {},
   "outputs": [],
   "source": [
    "#choose.files()\n",
    "#setwd(\"E:/ADMIN/Documents/ImportaDatosR\")"
   ]
  },
  {
   "cell_type": "code",
   "execution_count": 2,
   "metadata": {},
   "outputs": [],
   "source": [
    "# Recuerda que los datos que importemos deben de estar en tu \"wd\" y los datos que exportemos se almacenarán en dicho directorio.\n",
    "# Asimismo, recuerda cambiar \"\\\" por \"/\", para que no tengas problemas.\n",
    "#file.choose()"
   ]
  },
  {
   "cell_type": "markdown",
   "metadata": {},
   "source": [
    "1. Importar datos\n",
    "  \n",
    "1.1. Función read.table()\n",
    "\n",
    "Lee un archivo en formato de tabla y crea un data frame  a partir de él.\n",
    "Para leer un data frame directamente, el archivo externo generalmente debe tener una forma especial:\n",
    "\n",
    "- La primera línea del archivo debe tener un \"nombre\" para cada variable en el data frame.\n",
    "\n",
    "- Cada línea adicional del archivo tiene como primer elemento una etiqueta de fila y los valores para cada variable.\n",
    "\n",
    "OBS: Esta funciónn tiene varias opciones de lectura, las cuales tendremos que especificar para importar los datos correctamente.\n",
    "      Estas opciones son:\n",
    "\n",
    "\n",
    "-  read.csv()   : Están destinados a leer archivos de valores separados por comas (.csv)\n",
    "\n",
    "\n",
    "-  read.csv2()  : Es la variante utilizada en países que usan una coma como punto decimal y un punto y coma como separador de campo.\n",
    "\n",
    "\n",
    "-  read.delim() : Es para leer archivos delimitados, por defecto al carácter TAB para el delimitador.\n",
    "\n",
    "\n",
    "-  read.delim2(): Similar a read.delim().\n",
    "  \n",
    "  \n",
    "Primer ejemplo: Importando un data set \"con nombre\" para cada variable."
   ]
  },
  {
   "cell_type": "code",
   "execution_count": null,
   "metadata": {},
   "outputs": [],
   "source": [
    "file.choose()                               # Utilizamos para buscarla ruta en la que importaremos/exportaremos la data.\n",
    "setwd(\"E:/ADMIN/Documents/ImportaDatosR\")   # Fijamos la ruta como directorio de trabajo\n",
    "getwd()\n",
    "\n",
    "data01 <- read.table(\"libertad_prensa.txt\")\n",
    "head(data01)"
   ]
  },
  {
   "cell_type": "code",
   "execution_count": null,
   "metadata": {},
   "outputs": [],
   "source": [
    "# Importamos considerando los detalles de la data\n",
    "  \n",
    "data01 <- read.table(\"libertad_prensa.txt\", header = TRUE, sep = \",\", dec = \".\")\n",
    "head(data01)"
   ]
  },
  {
   "cell_type": "markdown",
   "metadata": {},
   "source": [
    "Segundo ejemplo: Importando un data set \"sin nombre\" para cada variable."
   ]
  },
  {
   "cell_type": "code",
   "execution_count": null,
   "metadata": {},
   "outputs": [],
   "source": [
    "data02 <- read.table(\"libertad_prensa_sinnombre.txt\", header = FALSE, sep = \",\", dec = \".\")\n",
    "head(data02)"
   ]
  },
  {
   "cell_type": "markdown",
   "metadata": {},
   "source": [
    "Importante:\n",
    "  \n",
    "- read.table()  : importa datos a partir de un archivo original y lo convierte en una base de datos (data frame).\n",
    "- header = TRUE : indica que la primera fila de la data corresponde a los nombres o etiquetas de las variables.\n",
    "- sep = \",\"     : indica que la separación entre valores en una fila es una coma (\",\").\n",
    "- dec = \".\"     : indica que el caracter usado para marcar decimales es un punto (\".\")."
   ]
  },
  {
   "cell_type": "code",
   "execution_count": null,
   "metadata": {},
   "outputs": [],
   "source": [
    "# Bonus Extra: Colocamos nombres a las variables de una data importada \"sin nombre\".\n",
    "  \n",
    "  names(data02) <- c(\"codigo\", \"pais\", \"anio\", \"linf\", \"lsup\")\n",
    "  head(data02)"
   ]
  },
  {
   "cell_type": "markdown",
   "metadata": {},
   "source": [
    "1.2. Importar datos con la función readr()\n",
    "  \n",
    "- Podemos usar:\n",
    "\n",
    "read_csv():   lee archivos con la coma \",\" como separador de datos.\n",
    "\n",
    "\n",
    "read_csv2():  lee archivos con punto y coma \";\" como separador de datos.\n",
    "\n",
    "\n",
    "read_tsv():   lee archivos con tabulador (\"\\t\") como separador de datos.\n",
    "\n",
    "\n",
    "read_delim( ,sep = \"|\"): lee archivos con separador distinto como \"|\" "
   ]
  },
  {
   "cell_type": "code",
   "execution_count": null,
   "metadata": {},
   "outputs": [],
   "source": [
    "setwd(\"E:/ADMIN/Documents/ImportaDatosR\")\n",
    "getwd()\n",
    "\n",
    "install.packages(\"readr\") # instalamos la paquete readr\n",
    "library(readr)   # Lo activamos\n",
    "misdatos <- read_csv(\"E:/ADMIN/Documents/ImportaDatosR/gapminder.csv\")"
   ]
  },
  {
   "cell_type": "code",
   "execution_count": null,
   "metadata": {},
   "outputs": [],
   "source": [
    "# Otra forma usando la función file.choose() dentro de readr()\n",
    "misdatos01 <- read_csv(file.choose())"
   ]
  },
  {
   "cell_type": "code",
   "execution_count": null,
   "metadata": {},
   "outputs": [],
   "source": [
    "# De forma similar, podemos leer data sets \"con nombre,\"sin nombre\" y un caso especial con la función readr()\n",
    "  \n",
    "# Para el caso en el cual NO tenemos \"nombre\" (sin encabezado)\n",
    "misdatos01.1 <- read_csv(file.choose(), skip = 0, col_names = FALSE) "
   ]
  },
  {
   "cell_type": "code",
   "execution_count": null,
   "metadata": {},
   "outputs": [],
   "source": [
    "# Para el caso en el cual SI tenemos \"nombre\" (con encabezado)\n",
    "misdatos01.2 <- read_csv(file.choose(), skip = 0, col_names = TRUE)"
   ]
  },
  {
   "cell_type": "code",
   "execution_count": null,
   "metadata": {},
   "outputs": [],
   "source": [
    "# Para el caso en el cual SI tenemos \"nombre\" (con encabezado) pero en una posición diferente al inicio (caso especial)\n",
    "misdatos01.3 <- read_csv(file.choose(), skip = 3, col_names = TRUE) \n",
    "# El argumento skip nos permite elegir desde que \"fila\" se va a leer los datos\n",
    "# El argumento col_names nos permite indicar a R si el data set tiene o no encabezados (nombre de las columnas)"
   ]
  },
  {
   "cell_type": "markdown",
   "metadata": {},
   "source": [
    "1.3. Importar datos con la función readxl()"
   ]
  },
  {
   "cell_type": "code",
   "execution_count": null,
   "metadata": {},
   "outputs": [],
   "source": [
    "setwd(\"E:/ADMIN/Documents/ImportaDatosR\")\n",
    "getwd()\n",
    "\n",
    "install.packages(\"readxl\")\n",
    "library(readxl)\n",
    "\n",
    "# Importamos archivos excel colocando el nombre de la hoja que quieres leer\n",
    "# misdatos <- read_excel(file.choose(), sheet = \"nombre de la hoja que quieres leer\")\n",
    "\n",
    "misdatos02 <- read_excel(file.choose(), sheet = \"primerahoja\")\n",
    "misdatos03 <- read_excel(file.choose(), sheet = \"segundahoja\")"
   ]
  },
  {
   "cell_type": "code",
   "execution_count": null,
   "metadata": {},
   "outputs": [],
   "source": [
    "# 1.4. Importar datos desde la RED de INTERNET\n",
    "  \n",
    "setwd(\"E:/ADMIN/Documents/ImportaDatosR\")\n",
    "\n",
    "# Primero debemos descargar los archivos (data set) de internet.\n",
    "# https://archive.ics.uci.edu/ml/machine-learning-databases/iris/iris.data             (UCI Machine Learning Repository)\n",
    "\n",
    "download.file(url = \"https://archive.ics.uci.edu/ml/machine-learning-databases/iris/iris.data\",\n",
    "            destfile = \"data.iris\")\n",
    "\n",
    "# - download.file(): nos permite descargar un archivo de internet. Nos pide como argumento la \"url\" del sitio.\n",
    "# - destfile       : es el argumento de la funciónn download.file() que nos permite asignar un nombre a nuestra archivo\n",
    "#                    y almacenarlo en la memoria de R."
   ]
  },
  {
   "cell_type": "code",
   "execution_count": null,
   "metadata": {},
   "outputs": [],
   "source": [
    "# Una vez cargado, vamos a crear nuestro data set\n",
    "  \n",
    "# Usando función read.table()\n",
    "datos.iris01 <- read.table(file = \"data.iris\", header = FALSE, sep = \",\", dec = \".\")    \n",
    "\n",
    "# Usando la función read_csv() del paquete readr\n",
    "library(readr)\n",
    "datos.iris02 <- read_csv(file = \"data.iris\", skip = 0, col_names = FALSE)              \n",
    "\n",
    "# Nota1: No se olvide de activar el paquete \"readr\" antes de usar la función read_csv().\n",
    "# Nota2: Luego de cargado el data set de internet, usted puede agregar los nombres a las variables con la función names()."
   ]
  }
 ],
 "metadata": {
  "kernelspec": {
   "display_name": "R",
   "language": "R",
   "name": "ir"
  },
  "language_info": {
   "codemirror_mode": "r",
   "file_extension": ".r",
   "mimetype": "text/x-r-source",
   "name": "R",
   "pygments_lexer": "r",
   "version": "3.6.1"
  }
 },
 "nbformat": 4,
 "nbformat_minor": 4
}
