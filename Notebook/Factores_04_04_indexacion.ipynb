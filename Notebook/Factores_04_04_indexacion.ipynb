{
 "cells": [
  {
   "cell_type": "markdown",
   "metadata": {},
   "source": [
    "### 4. Indexación y acceso a elementos de un factor "
   ]
  },
  {
   "cell_type": "code",
   "execution_count": 1,
   "metadata": {},
   "outputs": [],
   "source": [
    "grados <- c(\"bachiller\",\"licenciado\",\"licenciado\",\"maestro\",\"doctor\",\"maestro\",\"estudiante\",\n",
    "              \"maestro\",\"doctor\",\"licenciado\",\"maestro\",\"maestro\",\"bachiller\",\"maestro\",\n",
    "              \"doctor\",\"maestro\",\"licenciado\",\"maestro\",\"maestro\",\"maestro\")"
   ]
  },
  {
   "cell_type": "code",
   "execution_count": 2,
   "metadata": {},
   "outputs": [],
   "source": [
    "grados_f <- factor(grados)    # Creamos el factor \"grados\"."
   ]
  },
  {
   "cell_type": "code",
   "execution_count": 3,
   "metadata": {},
   "outputs": [
    {
     "data": {
      "text/plain": [
       "grados_f\n",
       " bachiller     doctor estudiante licenciado    maestro \n",
       "         2          3          1          4         10 "
      ]
     },
     "metadata": {},
     "output_type": "display_data"
    }
   ],
   "source": [
    "table(grados_f)"
   ]
  },
  {
   "cell_type": "code",
   "execution_count": 4,
   "metadata": {},
   "outputs": [
    {
     "data": {
      "text/html": [
       "maestro\n",
       "<details>\n",
       "\t<summary style=display:list-item;cursor:pointer>\n",
       "\t\t<strong>Levels</strong>:\n",
       "\t</summary>\n",
       "\t<ol class=list-inline>\n",
       "\t\t<li>'bachiller'</li>\n",
       "\t\t<li>'doctor'</li>\n",
       "\t\t<li>'estudiante'</li>\n",
       "\t\t<li>'licenciado'</li>\n",
       "\t\t<li>'maestro'</li>\n",
       "\t</ol>\n",
       "</details>"
      ],
      "text/latex": [
       "maestro\n",
       "\\emph{Levels}: \\begin{enumerate*}\n",
       "\\item 'bachiller'\n",
       "\\item 'doctor'\n",
       "\\item 'estudiante'\n",
       "\\item 'licenciado'\n",
       "\\item 'maestro'\n",
       "\\end{enumerate*}\n"
      ],
      "text/markdown": [
       "maestro\n",
       "**Levels**: 1. 'bachiller'\n",
       "2. 'doctor'\n",
       "3. 'estudiante'\n",
       "4. 'licenciado'\n",
       "5. 'maestro'\n",
       "\n",
       "\n"
      ],
      "text/plain": [
       "[1] maestro\n",
       "Levels: bachiller doctor estudiante licenciado maestro"
      ]
     },
     "metadata": {},
     "output_type": "display_data"
    }
   ],
   "source": [
    "grados_f[6]   # Utilizamos el factor \"grados_rec\". Accedemos a la ubicación del sexto elemento del factor."
   ]
  },
  {
   "cell_type": "code",
   "execution_count": 5,
   "metadata": {},
   "outputs": [
    {
     "data": {
      "text/html": [
       "licenciado\n",
       "<details>\n",
       "\t<summary style=display:list-item;cursor:pointer>\n",
       "\t\t<strong>Levels</strong>:\n",
       "\t</summary>\n",
       "\t<ol class=list-inline>\n",
       "\t\t<li>'bachiller'</li>\n",
       "\t\t<li>'doctor'</li>\n",
       "\t\t<li>'estudiante'</li>\n",
       "\t\t<li>'licenciado'</li>\n",
       "\t\t<li>'maestro'</li>\n",
       "\t</ol>\n",
       "</details>"
      ],
      "text/latex": [
       "licenciado\n",
       "\\emph{Levels}: \\begin{enumerate*}\n",
       "\\item 'bachiller'\n",
       "\\item 'doctor'\n",
       "\\item 'estudiante'\n",
       "\\item 'licenciado'\n",
       "\\item 'maestro'\n",
       "\\end{enumerate*}\n"
      ],
      "text/markdown": [
       "licenciado\n",
       "**Levels**: 1. 'bachiller'\n",
       "2. 'doctor'\n",
       "3. 'estudiante'\n",
       "4. 'licenciado'\n",
       "5. 'maestro'\n",
       "\n",
       "\n"
      ],
      "text/plain": [
       "[1] licenciado\n",
       "Levels: bachiller doctor estudiante licenciado maestro"
      ]
     },
     "metadata": {},
     "output_type": "display_data"
    }
   ],
   "source": [
    "grados_f[2]   # Accedemos a la ubicación del segundo elemento del factor."
   ]
  },
  {
   "cell_type": "code",
   "execution_count": 6,
   "metadata": {},
   "outputs": [
    {
     "data": {
      "text/html": [
       "<ol class=list-inline>\n",
       "\t<li>bachiller</li>\n",
       "\t<li>licenciado</li>\n",
       "\t<li>licenciado</li>\n",
       "</ol>\n",
       "\n",
       "<details>\n",
       "\t<summary style=display:list-item;cursor:pointer>\n",
       "\t\t<strong>Levels</strong>:\n",
       "\t</summary>\n",
       "\t<ol class=list-inline>\n",
       "\t\t<li>'bachiller'</li>\n",
       "\t\t<li>'doctor'</li>\n",
       "\t\t<li>'estudiante'</li>\n",
       "\t\t<li>'licenciado'</li>\n",
       "\t\t<li>'maestro'</li>\n",
       "\t</ol>\n",
       "</details>"
      ],
      "text/latex": [
       "\\begin{enumerate*}\n",
       "\\item bachiller\n",
       "\\item licenciado\n",
       "\\item licenciado\n",
       "\\end{enumerate*}\n",
       "\n",
       "\\emph{Levels}: \\begin{enumerate*}\n",
       "\\item 'bachiller'\n",
       "\\item 'doctor'\n",
       "\\item 'estudiante'\n",
       "\\item 'licenciado'\n",
       "\\item 'maestro'\n",
       "\\end{enumerate*}\n"
      ],
      "text/markdown": [
       "1. bachiller\n",
       "2. licenciado\n",
       "3. licenciado\n",
       "\n",
       "\n",
       "\n",
       "**Levels**: 1. 'bachiller'\n",
       "2. 'doctor'\n",
       "3. 'estudiante'\n",
       "4. 'licenciado'\n",
       "5. 'maestro'\n",
       "\n",
       "\n"
      ],
      "text/plain": [
       "[1] bachiller  licenciado licenciado\n",
       "Levels: bachiller doctor estudiante licenciado maestro"
      ]
     },
     "metadata": {},
     "output_type": "display_data"
    }
   ],
   "source": [
    "grados_f[1:3] # Accedemos a los elementos del primer al tercer"
   ]
  },
  {
   "cell_type": "code",
   "execution_count": 10,
   "metadata": {},
   "outputs": [
    {
     "data": {
      "text/html": [
       "<ol class=list-inline>\n",
       "\t<li>bachiller</li>\n",
       "\t<li>licenciado</li>\n",
       "\t<li>licenciado</li>\n",
       "\t<li>maestro</li>\n",
       "\t<li>maestro</li>\n",
       "\t<li>estudiante</li>\n",
       "\t<li>maestro</li>\n",
       "\t<li>doctor</li>\n",
       "\t<li>licenciado</li>\n",
       "\t<li>maestro</li>\n",
       "\t<li>maestro</li>\n",
       "\t<li>bachiller</li>\n",
       "\t<li>maestro</li>\n",
       "\t<li>doctor</li>\n",
       "\t<li>maestro</li>\n",
       "\t<li>licenciado</li>\n",
       "\t<li>maestro</li>\n",
       "\t<li>maestro</li>\n",
       "\t<li>maestro</li>\n",
       "</ol>\n",
       "\n",
       "<details>\n",
       "\t<summary style=display:list-item;cursor:pointer>\n",
       "\t\t<strong>Levels</strong>:\n",
       "\t</summary>\n",
       "\t<ol class=list-inline>\n",
       "\t\t<li>'bachiller'</li>\n",
       "\t\t<li>'doctor'</li>\n",
       "\t\t<li>'estudiante'</li>\n",
       "\t\t<li>'licenciado'</li>\n",
       "\t\t<li>'maestro'</li>\n",
       "\t</ol>\n",
       "</details>"
      ],
      "text/latex": [
       "\\begin{enumerate*}\n",
       "\\item bachiller\n",
       "\\item licenciado\n",
       "\\item licenciado\n",
       "\\item maestro\n",
       "\\item maestro\n",
       "\\item estudiante\n",
       "\\item maestro\n",
       "\\item doctor\n",
       "\\item licenciado\n",
       "\\item maestro\n",
       "\\item maestro\n",
       "\\item bachiller\n",
       "\\item maestro\n",
       "\\item doctor\n",
       "\\item maestro\n",
       "\\item licenciado\n",
       "\\item maestro\n",
       "\\item maestro\n",
       "\\item maestro\n",
       "\\end{enumerate*}\n",
       "\n",
       "\\emph{Levels}: \\begin{enumerate*}\n",
       "\\item 'bachiller'\n",
       "\\item 'doctor'\n",
       "\\item 'estudiante'\n",
       "\\item 'licenciado'\n",
       "\\item 'maestro'\n",
       "\\end{enumerate*}\n"
      ],
      "text/markdown": [
       "1. bachiller\n",
       "2. licenciado\n",
       "3. licenciado\n",
       "4. maestro\n",
       "5. maestro\n",
       "6. estudiante\n",
       "7. maestro\n",
       "8. doctor\n",
       "9. licenciado\n",
       "10. maestro\n",
       "11. maestro\n",
       "12. bachiller\n",
       "13. maestro\n",
       "14. doctor\n",
       "15. maestro\n",
       "16. licenciado\n",
       "17. maestro\n",
       "18. maestro\n",
       "19. maestro\n",
       "\n",
       "\n",
       "\n",
       "**Levels**: 1. 'bachiller'\n",
       "2. 'doctor'\n",
       "3. 'estudiante'\n",
       "4. 'licenciado'\n",
       "5. 'maestro'\n",
       "\n",
       "\n"
      ],
      "text/plain": [
       " [1] bachiller  licenciado licenciado maestro    maestro    estudiante\n",
       " [7] maestro    doctor     licenciado maestro    maestro    bachiller \n",
       "[13] maestro    doctor     maestro    licenciado maestro    maestro   \n",
       "[19] maestro   \n",
       "Levels: bachiller doctor estudiante licenciado maestro"
      ]
     },
     "metadata": {},
     "output_type": "display_data"
    }
   ],
   "source": [
    "grados_f[-5]"
   ]
  },
  {
   "cell_type": "code",
   "execution_count": 11,
   "metadata": {},
   "outputs": [
    {
     "data": {
      "text/html": [
       "<ol class=list-inline>\n",
       "\t<li>licenciado</li>\n",
       "\t<li>maestro</li>\n",
       "\t<li>doctor</li>\n",
       "\t<li>maestro</li>\n",
       "</ol>\n",
       "\n",
       "<details>\n",
       "\t<summary style=display:list-item;cursor:pointer>\n",
       "\t\t<strong>Levels</strong>:\n",
       "\t</summary>\n",
       "\t<ol class=list-inline>\n",
       "\t\t<li>'bachiller'</li>\n",
       "\t\t<li>'doctor'</li>\n",
       "\t\t<li>'estudiante'</li>\n",
       "\t\t<li>'licenciado'</li>\n",
       "\t\t<li>'maestro'</li>\n",
       "\t</ol>\n",
       "</details>"
      ],
      "text/latex": [
       "\\begin{enumerate*}\n",
       "\\item licenciado\n",
       "\\item maestro\n",
       "\\item doctor\n",
       "\\item maestro\n",
       "\\end{enumerate*}\n",
       "\n",
       "\\emph{Levels}: \\begin{enumerate*}\n",
       "\\item 'bachiller'\n",
       "\\item 'doctor'\n",
       "\\item 'estudiante'\n",
       "\\item 'licenciado'\n",
       "\\item 'maestro'\n",
       "\\end{enumerate*}\n"
      ],
      "text/markdown": [
       "1. licenciado\n",
       "2. maestro\n",
       "3. doctor\n",
       "4. maestro\n",
       "\n",
       "\n",
       "\n",
       "**Levels**: 1. 'bachiller'\n",
       "2. 'doctor'\n",
       "3. 'estudiante'\n",
       "4. 'licenciado'\n",
       "5. 'maestro'\n",
       "\n",
       "\n"
      ],
      "text/plain": [
       "[1] licenciado maestro    doctor     maestro   \n",
       "Levels: bachiller doctor estudiante licenciado maestro"
      ]
     },
     "metadata": {},
     "output_type": "display_data"
    }
   ],
   "source": [
    "# Extraemos elementos ubicados entre el tercer y sexta posición\n",
    "grados_f[3:6]"
   ]
  },
  {
   "cell_type": "code",
   "execution_count": 12,
   "metadata": {},
   "outputs": [
    {
     "data": {
      "text/html": [
       "'factor'"
      ],
      "text/latex": [
       "'factor'"
      ],
      "text/markdown": [
       "'factor'"
      ],
      "text/plain": [
       "[1] \"factor\""
      ]
     },
     "metadata": {},
     "output_type": "display_data"
    }
   ],
   "source": [
    "# Podemos generar un subconjunto que también es un factor y con los mismos niveles\n",
    "sub.grado_f <- grados_f[3:6]\n",
    "class(sub.grado_f)"
   ]
  },
  {
   "cell_type": "code",
   "execution_count": 13,
   "metadata": {},
   "outputs": [
    {
     "data": {
      "text/html": [
       "<ol class=list-inline>\n",
       "\t<li>'bachiller'</li>\n",
       "\t<li>'doctor'</li>\n",
       "\t<li>'estudiante'</li>\n",
       "\t<li>'licenciado'</li>\n",
       "\t<li>'maestro'</li>\n",
       "</ol>\n"
      ],
      "text/latex": [
       "\\begin{enumerate*}\n",
       "\\item 'bachiller'\n",
       "\\item 'doctor'\n",
       "\\item 'estudiante'\n",
       "\\item 'licenciado'\n",
       "\\item 'maestro'\n",
       "\\end{enumerate*}\n"
      ],
      "text/markdown": [
       "1. 'bachiller'\n",
       "2. 'doctor'\n",
       "3. 'estudiante'\n",
       "4. 'licenciado'\n",
       "5. 'maestro'\n",
       "\n",
       "\n"
      ],
      "text/plain": [
       "[1] \"bachiller\"  \"doctor\"     \"estudiante\" \"licenciado\" \"maestro\"   "
      ]
     },
     "metadata": {},
     "output_type": "display_data"
    }
   ],
   "source": [
    "levels(sub.grado_f)"
   ]
  }
 ],
 "metadata": {
  "kernelspec": {
   "display_name": "R",
   "language": "R",
   "name": "ir"
  },
  "language_info": {
   "codemirror_mode": "r",
   "file_extension": ".r",
   "mimetype": "text/x-r-source",
   "name": "R",
   "pygments_lexer": "r",
   "version": "3.6.1"
  }
 },
 "nbformat": 4,
 "nbformat_minor": 4
}
