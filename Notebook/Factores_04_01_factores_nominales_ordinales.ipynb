{
 "cells": [
  {
   "cell_type": "markdown",
   "metadata": {},
   "source": [
    "## Factores "
   ]
  },
  {
   "cell_type": "markdown",
   "metadata": {},
   "source": [
    "### ¿Qué es un factor?\n",
    "\n",
    "Son un tipo de vector para datos cualitativs (categóricos).\n",
    "Especifican una clasificación discreta de los elementos de otro vector de la misma longitud.\n",
    "El factor almacena las categorías en la forma de un vector con números discretos enteros (1,2, etc.)\n",
    "como códigos y otro para las etiquetas.\n",
    " \n",
    "Son de utilidad para:\n",
    "\n",
    "Trabajar con variables categóricas.\n",
    "Trabajar con variables que tienen un conjunto fijo y conocido de valores posibles, y\n",
    "cuando se quiere mostrar vectores de caracteres en un órden no alfabético (para mostrar jerarquía, por ejemplo).\n",
    "\n",
    "\n",
    "### 1. Factores Nominales y Ordinales\n",
    "\n",
    "#### 1.1. Factor Nominal\n",
    "\n",
    "Un factor nominal permite almacenar variables categóricas nominales, es decir, es aquel factor que\n",
    "utiliza etiquetas para representar un atributo y no importa el orden o jerarquía de los mismos.\n",
    "\n",
    "Crearemos dos vectores, uno de caracteres y otro numérico"
   ]
  },
  {
   "cell_type": "code",
   "execution_count": 1,
   "metadata": {},
   "outputs": [],
   "source": [
    "profesiones <- c(\"Economista\",\"Contador\",\"Data Scientist\",\"MatemÃ¡tico\",\"Profesor\",\"Ingeniero\",\n",
    "                   \"MatemÃ¡tico\",\"Profesor\",\"Economista\",\"Contador\",\"Profesor\",\"Profesor\",\n",
    "                   \"Data Scientist\",\"Ingeniero\",\"Ingeniero\",\"Economista\",\"Profesor\",\"Contador\")\n",
    "sueldo <- c(9800, 5500, 8500, 4300, 4200, 6800, 5300, 4200, 2900, 11000, 6800, 3600,\n",
    "              7200, 4800, 9800, 5400,6000,5400)"
   ]
  },
  {
   "cell_type": "markdown",
   "metadata": {},
   "source": [
    "Para realizar un análisis estadístico, debemos transformar el vector profesiones a un factor"
   ]
  },
  {
   "cell_type": "code",
   "execution_count": 2,
   "metadata": {},
   "outputs": [
    {
     "data": {
      "text/html": [
       "'factor'"
      ],
      "text/latex": [
       "'factor'"
      ],
      "text/markdown": [
       "'factor'"
      ],
      "text/plain": [
       "[1] \"factor\""
      ]
     },
     "metadata": {},
     "output_type": "display_data"
    }
   ],
   "source": [
    "fact_profesiones <- as.factor(profesiones)    # Transformamos un vector de caracteres a un factor.\n",
    "class(fact_profesiones)                       # Consultamos la clase del objeto \"fact_profesiones\""
   ]
  },
  {
   "cell_type": "code",
   "execution_count": 3,
   "metadata": {},
   "outputs": [
    {
     "data": {
      "text/html": [
       "<dl class=dl-horizontal>\n",
       "\t<dt>Contador</dt>\n",
       "\t\t<dd>7300</dd>\n",
       "\t<dt>Data Scientist</dt>\n",
       "\t\t<dd>7850</dd>\n",
       "\t<dt>Economista</dt>\n",
       "\t\t<dd>6033.33333333333</dd>\n",
       "\t<dt>Ingeniero</dt>\n",
       "\t\t<dd>7133.33333333333</dd>\n",
       "\t<dt>MatemÃ¡tico</dt>\n",
       "\t\t<dd>4800</dd>\n",
       "\t<dt>Profesor</dt>\n",
       "\t\t<dd>4960</dd>\n",
       "</dl>\n"
      ],
      "text/latex": [
       "\\begin{description*}\n",
       "\\item[Contador] 7300\n",
       "\\item[Data Scientist] 7850\n",
       "\\item[Economista] 6033.33333333333\n",
       "\\item[Ingeniero] 7133.33333333333\n",
       "\\item[MatemÃ¡tico] 4800\n",
       "\\item[Profesor] 4960\n",
       "\\end{description*}\n"
      ],
      "text/markdown": [
       "Contador\n",
       ":   7300Data Scientist\n",
       ":   7850Economista\n",
       ":   6033.33333333333Ingeniero\n",
       ":   7133.33333333333MatemÃ¡tico\n",
       ":   4800Profesor\n",
       ":   4960\n",
       "\n"
      ],
      "text/plain": [
       "      Contador Data Scientist     Economista      Ingeniero    MatemÃ¡tico \n",
       "      7300.000       7850.000       6033.333       7133.333       4800.000 \n",
       "      Profesor \n",
       "      4960.000 "
      ]
     },
     "metadata": {},
     "output_type": "display_data"
    }
   ],
   "source": [
    "salario_medio <- tapply(sueldo, fact_profesiones, mean)  \n",
    "salario_medio"
   ]
  },
  {
   "cell_type": "markdown",
   "metadata": {},
   "source": [
    "#### 1.2. Factor Ordinal\n",
    "  \n",
    "Permite almacenar variables categóricas ordinales, es decir, aquí si importa el orden o jerarquía de las categorías.\n",
    "Imagine que \"result\" contiene los resultados de un examen de selección de personal de 30 postulantes"
   ]
  },
  {
   "cell_type": "code",
   "execution_count": 4,
   "metadata": {},
   "outputs": [],
   "source": [
    "result <- c(0,1,3,0,1,1,2,2,2,1,3,0,2,1,3,1,1,0,0,2,1,1,2,0,0,1,0,1,2,1)  # Creamos un vector numérico"
   ]
  },
  {
   "cell_type": "markdown",
   "metadata": {},
   "source": [
    "Asignamos niveles para seleccionar al mejor candidato de acuerdo a sus resultados:\n",
    "  \n",
    " 0 = Regular < 1 = Bueno < 2 = Muy Bueno < 3 = Excelente"
   ]
  },
  {
   "cell_type": "code",
   "execution_count": 6,
   "metadata": {},
   "outputs": [
    {
     "data": {
      "text/html": [
       "<ol class=list-inline>\n",
       "\t<li>Regular</li>\n",
       "\t<li>Bueno</li>\n",
       "\t<li>Excelente</li>\n",
       "\t<li>Regular</li>\n",
       "\t<li>Bueno</li>\n",
       "\t<li>Bueno</li>\n",
       "\t<li>Muy Bueno</li>\n",
       "\t<li>Muy Bueno</li>\n",
       "\t<li>Muy Bueno</li>\n",
       "\t<li>Bueno</li>\n",
       "\t<li>Excelente</li>\n",
       "\t<li>Regular</li>\n",
       "\t<li>Muy Bueno</li>\n",
       "\t<li>Bueno</li>\n",
       "\t<li>Excelente</li>\n",
       "\t<li>Bueno</li>\n",
       "\t<li>Bueno</li>\n",
       "\t<li>Regular</li>\n",
       "\t<li>Regular</li>\n",
       "\t<li>Muy Bueno</li>\n",
       "\t<li>Bueno</li>\n",
       "\t<li>Bueno</li>\n",
       "\t<li>Muy Bueno</li>\n",
       "\t<li>Regular</li>\n",
       "\t<li>Regular</li>\n",
       "\t<li>Bueno</li>\n",
       "\t<li>Regular</li>\n",
       "\t<li>Bueno</li>\n",
       "\t<li>Muy Bueno</li>\n",
       "\t<li>Bueno</li>\n",
       "</ol>\n",
       "\n",
       "<details>\n",
       "\t<summary style=display:list-item;cursor:pointer>\n",
       "\t\t<strong>Levels</strong>:\n",
       "\t</summary>\n",
       "\t<ol class=list-inline>\n",
       "\t\t<li>'Regular'</li>\n",
       "\t\t<li>'Bueno'</li>\n",
       "\t\t<li>'Muy Bueno'</li>\n",
       "\t\t<li>'Excelente'</li>\n",
       "\t</ol>\n",
       "</details>"
      ],
      "text/latex": [
       "\\begin{enumerate*}\n",
       "\\item Regular\n",
       "\\item Bueno\n",
       "\\item Excelente\n",
       "\\item Regular\n",
       "\\item Bueno\n",
       "\\item Bueno\n",
       "\\item Muy Bueno\n",
       "\\item Muy Bueno\n",
       "\\item Muy Bueno\n",
       "\\item Bueno\n",
       "\\item Excelente\n",
       "\\item Regular\n",
       "\\item Muy Bueno\n",
       "\\item Bueno\n",
       "\\item Excelente\n",
       "\\item Bueno\n",
       "\\item Bueno\n",
       "\\item Regular\n",
       "\\item Regular\n",
       "\\item Muy Bueno\n",
       "\\item Bueno\n",
       "\\item Bueno\n",
       "\\item Muy Bueno\n",
       "\\item Regular\n",
       "\\item Regular\n",
       "\\item Bueno\n",
       "\\item Regular\n",
       "\\item Bueno\n",
       "\\item Muy Bueno\n",
       "\\item Bueno\n",
       "\\end{enumerate*}\n",
       "\n",
       "\\emph{Levels}: \\begin{enumerate*}\n",
       "\\item 'Regular'\n",
       "\\item 'Bueno'\n",
       "\\item 'Muy Bueno'\n",
       "\\item 'Excelente'\n",
       "\\end{enumerate*}\n"
      ],
      "text/markdown": [
       "1. Regular\n",
       "2. Bueno\n",
       "3. Excelente\n",
       "4. Regular\n",
       "5. Bueno\n",
       "6. Bueno\n",
       "7. Muy Bueno\n",
       "8. Muy Bueno\n",
       "9. Muy Bueno\n",
       "10. Bueno\n",
       "11. Excelente\n",
       "12. Regular\n",
       "13. Muy Bueno\n",
       "14. Bueno\n",
       "15. Excelente\n",
       "16. Bueno\n",
       "17. Bueno\n",
       "18. Regular\n",
       "19. Regular\n",
       "20. Muy Bueno\n",
       "21. Bueno\n",
       "22. Bueno\n",
       "23. Muy Bueno\n",
       "24. Regular\n",
       "25. Regular\n",
       "26. Bueno\n",
       "27. Regular\n",
       "28. Bueno\n",
       "29. Muy Bueno\n",
       "30. Bueno\n",
       "\n",
       "\n",
       "\n",
       "**Levels**: 1. 'Regular'\n",
       "2. 'Bueno'\n",
       "3. 'Muy Bueno'\n",
       "4. 'Excelente'\n",
       "\n",
       "\n"
      ],
      "text/plain": [
       " [1] Regular   Bueno     Excelente Regular   Bueno     Bueno     Muy Bueno\n",
       " [8] Muy Bueno Muy Bueno Bueno     Excelente Regular   Muy Bueno Bueno    \n",
       "[15] Excelente Bueno     Bueno     Regular   Regular   Muy Bueno Bueno    \n",
       "[22] Bueno     Muy Bueno Regular   Regular   Bueno     Regular   Bueno    \n",
       "[29] Muy Bueno Bueno    \n",
       "Levels: Regular < Bueno < Muy Bueno < Excelente"
      ]
     },
     "metadata": {},
     "output_type": "display_data"
    }
   ],
   "source": [
    "fact_result <- as.factor(result)                                     # Transformamos un vector numérico a factor.\n",
    "levels(fact_result) <- c(\"Regular\",\"Bueno\",\"Muy Bueno\",\"Excelente\")  # Asignamos los niveles de \"menos\" a \"más\".\n",
    "  \n",
    "fact_result <- ordered(fact_result)                                  # Ordenamos el factor resultados\n",
    "fact_result "
   ]
  },
  {
   "cell_type": "markdown",
   "metadata": {},
   "source": [
    "OBS: se debe tener en cuenta que deben existir los niveles necesarios de acuerdo al número de \"códigos\" numéricos\n",
    "que existan. En nuestro ejemplo establecimos 4 niveles (Regular, Bueno, Muy Bueno y Excelente) debido a que\n",
    "existían cuatro códigos de resultados 0, 1, 2 y 3."
   ]
  },
  {
   "cell_type": "code",
   "execution_count": null,
   "metadata": {},
   "outputs": [],
   "source": []
  }
 ],
 "metadata": {
  "kernelspec": {
   "display_name": "R",
   "language": "R",
   "name": "ir"
  },
  "language_info": {
   "codemirror_mode": "r",
   "file_extension": ".r",
   "mimetype": "text/x-r-source",
   "name": "R",
   "pygments_lexer": "r",
   "version": "3.6.1"
  }
 },
 "nbformat": 4,
 "nbformat_minor": 4
}
