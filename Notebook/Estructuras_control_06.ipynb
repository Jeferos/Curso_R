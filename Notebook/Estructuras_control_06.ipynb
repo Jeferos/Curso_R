{
 "cells": [
  {
   "cell_type": "markdown",
   "metadata": {},
   "source": [
    "Estructuras de Control\n",
    "  \n",
    "Establecen condicionales en nuestro código. \n",
    "Permiten controlar de manera en que se ejecuta el código.\n",
    "Estos son:\n",
    "\n",
    "+ if, else :  si, de otro modo\n",
    "+ for      :  para cada uno en\n",
    "+ while    :  mientras\n",
    "+ break    :  interrupción\n",
    "+ next     :  siguiente\n",
    "  \n",
    "  \n",
    "Uso del condicional \"if\" e \"if else\"\n",
    "  \n",
    "El comando \"if else\": \n",
    "   if (si):              es usado cada vez que deseamos que una operación se ejecute cuando se cumple la condición.                   \n",
    "     else (de otro modo):  indica a R qué hacer en caso la condición dada en \"if\" no se cumpla.  \n",
    "  \n",
    "     \"Si esta condición es cierta, entonces haz estas operaciones. De otro modo, haz estas otras operaciones\"\n",
    "  \n",
    "  \n",
    "   Ejemplo 01: "
   ]
  },
  {
   "cell_type": "code",
   "execution_count": null,
   "metadata": {},
   "outputs": [],
   "source": [
    "# Ejemplo 01: \n",
    "ejemplo01 <- function(x){\n",
    "if(x <= 0) {abs(x)}\n",
    "else {x^2 + x + 1}\n",
    "}\n",
    "ejemplo01(2)\n",
    "ejemplo01(0)\n",
    "ejemplo01(-3)"
   ]
  },
  {
   "cell_type": "code",
   "execution_count": 1,
   "metadata": {},
   "outputs": [
    {
     "data": {
      "text/html": [
       "1"
      ],
      "text/latex": [
       "1"
      ],
      "text/markdown": [
       "1"
      ],
      "text/plain": [
       "[1] 1"
      ]
     },
     "metadata": {},
     "output_type": "display_data"
    },
    {
     "data": {
      "text/html": [
       "25"
      ],
      "text/latex": [
       "25"
      ],
      "text/markdown": [
       "25"
      ],
      "text/plain": [
       "[1] 25"
      ]
     },
     "metadata": {},
     "output_type": "display_data"
    },
    {
     "data": {
      "text/html": [
       "2"
      ],
      "text/latex": [
       "2"
      ],
      "text/markdown": [
       "2"
      ],
      "text/plain": [
       "[1] 2"
      ]
     },
     "metadata": {},
     "output_type": "display_data"
    },
    {
     "data": {
      "text/html": [
       "0"
      ],
      "text/latex": [
       "0"
      ],
      "text/markdown": [
       "0"
      ],
      "text/plain": [
       "[1] 0"
      ]
     },
     "metadata": {},
     "output_type": "display_data"
    }
   ],
   "source": [
    "# Ejemplo 02\n",
    "\n",
    "ejemplo02 <- function(x) {\n",
    "if(x<0) {x^2}\n",
    "else if (x == 0) { 0 }\n",
    "else { sqrt(x)}\n",
    "}\n",
    "\n",
    "ejemplo02(-1)\n",
    "ejemplo02(-5)\n",
    "ejemplo02(4)\n",
    "ejemplo02(0)"
   ]
  },
  {
   "cell_type": "code",
   "execution_count": 3,
   "metadata": {},
   "outputs": [
    {
     "data": {
      "text/html": [
       "'El número que colocaste es positivo'"
      ],
      "text/latex": [
       "'El número que colocaste es positivo'"
      ],
      "text/markdown": [
       "'El número que colocaste es positivo'"
      ],
      "text/plain": [
       "[1] \"El número que colocaste es positivo\""
      ]
     },
     "metadata": {},
     "output_type": "display_data"
    },
    {
     "data": {
      "text/html": [
       "'El número que colocaste es negativo'"
      ],
      "text/latex": [
       "'El número que colocaste es negativo'"
      ],
      "text/markdown": [
       "'El número que colocaste es negativo'"
      ],
      "text/plain": [
       "[1] \"El número que colocaste es negativo\""
      ]
     },
     "metadata": {},
     "output_type": "display_data"
    },
    {
     "data": {
      "text/html": [
       "'El cero no tiene signo'"
      ],
      "text/latex": [
       "'El cero no tiene signo'"
      ],
      "text/markdown": [
       "'El cero no tiene signo'"
      ],
      "text/plain": [
       "[1] \"El cero no tiene signo\""
      ]
     },
     "metadata": {},
     "output_type": "display_data"
    }
   ],
   "source": [
    "# Ejemplo 03\n",
    "\n",
    "ejemplo03 <- function(x){\n",
    "if(x > 0) {\"El número que colocaste es positivo\"}\n",
    "else if(x == 0) {\"El cero no tiene signo\"}\n",
    "else {\"El número que colocaste es negativo\"}\n",
    "}\n",
    "\n",
    "ejemplo03(3.14)\n",
    "ejemplo03(-3.14)\n",
    "ejemplo03(0)"
   ]
  },
  {
   "cell_type": "code",
   "execution_count": 4,
   "metadata": {},
   "outputs": [
    {
     "name": "stdout",
     "output_type": "stream",
     "text": [
      "[1] \"No aprobado\"\n"
     ]
    }
   ],
   "source": [
    "# Función promedio de notas\n",
    "\n",
    "promedio.notas <- function(notas){media <- mean(notas)\n",
    "if(media >= 13) return(\"Aprobado\")\n",
    "else {print(\"No aprobado\")}\n",
    "}\n",
    "notas <- c(8,9,12,17)\n",
    "promedio.notas(notas)"
   ]
  },
  {
   "cell_type": "markdown",
   "metadata": {},
   "source": [
    "3. Uso del condicional \"for\"   \n",
    "  \n",
    "Nos permite ejecutar un bucle, realizando una operación para cada elemento del dataset.\n",
    "  \n",
    "\"Para cada elemento en un objeto, haz la siguiente operación\"\n",
    "  \n",
    "Ejemplo:"
   ]
  },
  {
   "cell_type": "code",
   "execution_count": 5,
   "metadata": {},
   "outputs": [
    {
     "name": "stdout",
     "output_type": "stream",
     "text": [
      "[1] 2\n",
      "[1] 6\n",
      "[1] 12\n",
      "[1] 20\n",
      "[1] 30\n",
      "[1] 42\n",
      "[1] 56\n",
      "[1] 72\n",
      "[1] 90\n",
      "[1] 110\n"
     ]
    }
   ],
   "source": [
    "objeto <- c(1:10)\n",
    "  for (i in objeto) {\n",
    "    a = i + i^2\n",
    "    print(a)\n",
    "  }  "
   ]
  },
  {
   "cell_type": "code",
   "execution_count": 7,
   "metadata": {},
   "outputs": [
    {
     "name": "stdout",
     "output_type": "stream",
     "text": [
      "[1] 1\n",
      "[1] 3\n",
      "[1] 6\n",
      "[1] 10\n",
      "[1] 15\n",
      "[1] 21\n",
      "[1] 28\n",
      "[1] 36\n",
      "[1] 45\n",
      "[1] 55\n",
      "[1] 66\n",
      "[1] 78\n",
      "[1] 91\n",
      "[1] 105\n",
      "[1] 120\n",
      "[1] 136\n",
      "[1] 153\n",
      "[1] 171\n",
      "[1] 190\n",
      "[1] 210\n",
      "[1] 231\n",
      "[1] 253\n",
      "[1] 276\n",
      "[1] 300\n",
      "[1] 325\n",
      "[1] 351\n",
      "[1] 378\n",
      "[1] 406\n",
      "[1] 435\n",
      "[1] 465\n",
      "[1] 496\n",
      "[1] 528\n",
      "[1] 561\n",
      "[1] 595\n",
      "[1] 630\n",
      "[1] 666\n",
      "[1] 703\n",
      "[1] 741\n",
      "[1] 780\n",
      "[1] 820\n",
      "[1] 861\n",
      "[1] 903\n",
      "[1] 946\n",
      "[1] 990\n",
      "[1] 1035\n",
      "[1] 1081\n",
      "[1] 1128\n",
      "[1] 1176\n",
      "[1] 1225\n",
      "[1] 1275\n",
      "[1] 1326\n",
      "[1] 1378\n",
      "[1] 1431\n",
      "[1] 1485\n",
      "[1] 1540\n",
      "[1] 1596\n",
      "[1] 1653\n",
      "[1] 1711\n",
      "[1] 1770\n",
      "[1] 1830\n",
      "[1] 1891\n",
      "[1] 1953\n",
      "[1] 2016\n",
      "[1] 2080\n",
      "[1] 2145\n",
      "[1] 2211\n",
      "[1] 2278\n",
      "[1] 2346\n",
      "[1] 2415\n",
      "[1] 2485\n",
      "[1] 2556\n",
      "[1] 2628\n",
      "[1] 2701\n",
      "[1] 2775\n",
      "[1] 2850\n",
      "[1] 2926\n",
      "[1] 3003\n",
      "[1] 3081\n",
      "[1] 3160\n",
      "[1] 3240\n",
      "[1] 3321\n",
      "[1] 3403\n",
      "[1] 3486\n",
      "[1] 3570\n",
      "[1] 3655\n",
      "[1] 3741\n",
      "[1] 3828\n",
      "[1] 3916\n",
      "[1] 4005\n",
      "[1] 4095\n",
      "[1] 4186\n",
      "[1] 4278\n",
      "[1] 4371\n",
      "[1] 4465\n",
      "[1] 4560\n",
      "[1] 4656\n",
      "[1] 4753\n",
      "[1] 4851\n",
      "[1] 4950\n",
      "[1] 5050\n",
      "[1] 1\n",
      "[1] 3\n",
      "[1] 6\n",
      "[1] 10\n",
      "[1] 15\n",
      "[1] 21\n"
     ]
    }
   ],
   "source": [
    "# Otro ejemplo\n",
    "  \n",
    "suma_n <- function(x){\n",
    "   for (i in x) {\n",
    "     s = i*(i+1)/2\n",
    "     print(s)\n",
    "     }\n",
    "   }\n",
    " \n",
    "suma_n(c(1:100))\n",
    "suma_n(c(1,2,3,4,5,6))"
   ]
  },
  {
   "cell_type": "markdown",
   "metadata": {},
   "source": [
    "Aplicaciones:\n",
    "  \n",
    "  \n",
    "1. Función valor absoluto"
   ]
  },
  {
   "cell_type": "code",
   "execution_count": 8,
   "metadata": {},
   "outputs": [
    {
     "data": {
      "text/html": [
       "6"
      ],
      "text/latex": [
       "6"
      ],
      "text/markdown": [
       "6"
      ],
      "text/plain": [
       "[1] 6"
      ]
     },
     "metadata": {},
     "output_type": "display_data"
    },
    {
     "data": {
      "text/html": [
       "6"
      ],
      "text/latex": [
       "6"
      ],
      "text/markdown": [
       "6"
      ],
      "text/plain": [
       "[1] 6"
      ]
     },
     "metadata": {},
     "output_type": "display_data"
    }
   ],
   "source": [
    "abso <- function(x) {   # Abrimos la función para colocar la expresión.\n",
    "    if(x<0){-x}           # Condicionamos \"si x < 0, la función devuelve su opuesto \"-x\".\n",
    "    else(x)               # Caso contrario, la función nos devuelve el valor \"x\"\n",
    "  }                       # Cerramos la función.\n",
    "  \n",
    "  abso(-6)                # Probamos, con un valor negativo. Devuelve su opuesto de valor.\n",
    "  abso(6)                 # Probamos, con un valor positivo. Devuelve el mismo valor."
   ]
  },
  {
   "cell_type": "code",
   "execution_count": 10,
   "metadata": {},
   "outputs": [
    {
     "data": {
      "text/plain": [
       "NULL"
      ]
     },
     "metadata": {},
     "output_type": "display_data"
    },
    {
     "data": {
      "text/html": [
       "1"
      ],
      "text/latex": [
       "1"
      ],
      "text/markdown": [
       "1"
      ],
      "text/plain": [
       "[1] 1"
      ]
     },
     "metadata": {},
     "output_type": "display_data"
    },
    {
     "data": {
      "text/html": [
       "120"
      ],
      "text/latex": [
       "120"
      ],
      "text/markdown": [
       "120"
      ],
      "text/plain": [
       "[1] 120"
      ]
     },
     "metadata": {},
     "output_type": "display_data"
    }
   ],
   "source": [
    "# 2. Función factorial\n",
    "  \n",
    "factorial <- function(n) { \n",
    "   if (n == 0) return(1)                 # Primera condición, si n=0, que nos retorne 1.\n",
    "   if (n > 0)  return(n*factorial(n-1))  # segunda condición, si n>0, que nos retorne n(n-1).\n",
    "   return(NULL)                          # En caso contrario, retornar \"NULL\".\n",
    "}\n",
    "\n",
    "factorial(-1)   # Nos retornará¡ \"NULL\" debido a que -1 no cumple alguno de las condiciones.\n",
    "factorial(0)    # Nos retorna \"1\", dado que cumple la primera condición (n=0).\n",
    "factorial(5)    # Nos retorna el valor de n(n-1)!, pues cumple la segunda condición (n>0)."
   ]
  },
  {
   "cell_type": "code",
   "execution_count": 11,
   "metadata": {},
   "outputs": [
    {
     "data": {
      "text/plain": [
       "NULL"
      ]
     },
     "metadata": {},
     "output_type": "display_data"
    },
    {
     "data": {
      "text/html": [
       "1"
      ],
      "text/latex": [
       "1"
      ],
      "text/markdown": [
       "1"
      ],
      "text/plain": [
       "[1] 1"
      ]
     },
     "metadata": {},
     "output_type": "display_data"
    },
    {
     "data": {
      "text/html": [
       "120"
      ],
      "text/latex": [
       "120"
      ],
      "text/markdown": [
       "120"
      ],
      "text/plain": [
       "[1] 120"
      ]
     },
     "metadata": {},
     "output_type": "display_data"
    }
   ],
   "source": [
    "# También podemos usar \"else\" en lugar de \"return\"\n",
    "  \n",
    "factorial1 <- function(n) { \n",
    "    if (n == 0) return(1)\n",
    "    if (n > 0)  return(n*factorial1(n-1))\n",
    "    else(NULL)    # Establecemos que la función nos devuelva \"NULL\", en caso contrario.\n",
    "}\n",
    "factorial1(-1)\n",
    "factorial1(0)\n",
    "factorial1(5)"
   ]
  },
  {
   "cell_type": "markdown",
   "metadata": {},
   "source": [
    "OBS:  Para utilizar la recursividad, es necesario la existencia de por lo menos una salida \"no recursiva\".\n",
    "En nuestra función \"factorial\" la salida no recursiva esta dado por la condición \"if(n==0)\"."
   ]
  }
 ],
 "metadata": {
  "kernelspec": {
   "display_name": "R",
   "language": "R",
   "name": "ir"
  },
  "language_info": {
   "codemirror_mode": "r",
   "file_extension": ".r",
   "mimetype": "text/x-r-source",
   "name": "R",
   "pygments_lexer": "r",
   "version": "3.6.1"
  }
 },
 "nbformat": 4,
 "nbformat_minor": 4
}
