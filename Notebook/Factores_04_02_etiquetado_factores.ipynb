{
 "cells": [
  {
   "cell_type": "markdown",
   "metadata": {},
   "source": [
    "### 2. Etiquetado de factores\n",
    "  \n",
    "x : atributo de un individuo (vector numérico)\n",
    "\n",
    "y : sexo del individuo (y = 0: masculino; y = 1: femenino)"
   ]
  },
  {
   "cell_type": "code",
   "execution_count": 1,
   "metadata": {},
   "outputs": [
    {
     "data": {
      "text/html": [
       "<table>\n",
       "<thead><tr><th scope=col>x</th><th scope=col>y</th></tr></thead>\n",
       "<tbody>\n",
       "\t<tr><td>3</td><td>0</td></tr>\n",
       "\t<tr><td>2</td><td>0</td></tr>\n",
       "\t<tr><td>4</td><td>1</td></tr>\n",
       "\t<tr><td>5</td><td>1</td></tr>\n",
       "\t<tr><td>6</td><td>0</td></tr>\n",
       "\t<tr><td>4</td><td>1</td></tr>\n",
       "</tbody>\n",
       "</table>\n"
      ],
      "text/latex": [
       "\\begin{tabular}{ll}\n",
       " x & y\\\\\n",
       "\\hline\n",
       "\t 3 & 0\\\\\n",
       "\t 2 & 0\\\\\n",
       "\t 4 & 1\\\\\n",
       "\t 5 & 1\\\\\n",
       "\t 6 & 0\\\\\n",
       "\t 4 & 1\\\\\n",
       "\\end{tabular}\n"
      ],
      "text/markdown": [
       "\n",
       "| x | y |\n",
       "|---|---|\n",
       "| 3 | 0 |\n",
       "| 2 | 0 |\n",
       "| 4 | 1 |\n",
       "| 5 | 1 |\n",
       "| 6 | 0 |\n",
       "| 4 | 1 |\n",
       "\n"
      ],
      "text/plain": [
       "     x y\n",
       "[1,] 3 0\n",
       "[2,] 2 0\n",
       "[3,] 4 1\n",
       "[4,] 5 1\n",
       "[5,] 6 0\n",
       "[6,] 4 1"
      ]
     },
     "metadata": {},
     "output_type": "display_data"
    }
   ],
   "source": [
    "x <- c(3,2,4,5,6,4)             # Creamos un vector numérico.\n",
    "y <- c(0,0,1,1,0,1)             # Creamos otro vector numérico, que refleja información cualitativa.\n",
    "cbind(x,y)                      # Combinamos por columnas, debido a que el número de filas es el mismo."
   ]
  },
  {
   "cell_type": "markdown",
   "metadata": {},
   "source": [
    "Declaramos la variables: \"y\" como un factor "
   ]
  },
  {
   "cell_type": "code",
   "execution_count": 2,
   "metadata": {},
   "outputs": [
    {
     "data": {
      "text/html": [
       "'numeric'"
      ],
      "text/latex": [
       "'numeric'"
      ],
      "text/markdown": [
       "'numeric'"
      ],
      "text/plain": [
       "[1] \"numeric\""
      ]
     },
     "metadata": {},
     "output_type": "display_data"
    }
   ],
   "source": [
    "num_hijos <- x                                        # Cambiamos el nombre.\n",
    "sexo <- factor(y, labels = c(\"masculino\",\"femenino\")) # Usamos labels para indicar las etiquetas.\n",
    "class(y)                                              # Consultamos la clase, vemos que es \"numeric\"."
   ]
  },
  {
   "cell_type": "code",
   "execution_count": 3,
   "metadata": {},
   "outputs": [
    {
     "data": {
      "text/html": [
       "'factor'"
      ],
      "text/latex": [
       "'factor'"
      ],
      "text/markdown": [
       "'factor'"
      ],
      "text/plain": [
       "[1] \"factor\""
      ]
     },
     "metadata": {},
     "output_type": "display_data"
    }
   ],
   "source": [
    "class(sexo)                                           # Consultamo la clase, vemos que es \"factor\"."
   ]
  },
  {
   "cell_type": "markdown",
   "metadata": {},
   "source": [
    "OBS: Asignamos en forma creciente y en el mismo orden en el que colocamos las etiquetas. \n",
    "\n",
    "En ese sentido, 0 se asigna a masculino y 1 a femenino"
   ]
  },
  {
   "cell_type": "code",
   "execution_count": 5,
   "metadata": {},
   "outputs": [
    {
     "data": {
      "image/png": "[encoded data removed]",
      "text/plain": [
       "plot without title"
      ]
     },
     "metadata": {},
     "output_type": "display_data"
    }
   ],
   "source": [
    "data_f <- data.frame(num_hijos, sexo)   # Construimos un data frame para  realizar algún análisis o consultas.\n",
    "plot(data_f$sexo, data_f$num_hijos)     # Se asigna el eje X al factor, y el eje Y a la variable numérica"
   ]
  },
  {
   "cell_type": "code",
   "execution_count": 6,
   "metadata": {},
   "outputs": [
    {
     "data": {
      "text/html": [
       "4"
      ],
      "text/latex": [
       "4"
      ],
      "text/markdown": [
       "4"
      ],
      "text/plain": [
       "[1] 4"
      ]
     },
     "metadata": {},
     "output_type": "display_data"
    }
   ],
   "source": [
    "mean(data_f$num_hijos)  "
   ]
  },
  {
   "cell_type": "code",
   "execution_count": 7,
   "metadata": {},
   "outputs": [
    {
     "data": {
      "text/plain": [
       "   num_hijos           sexo  \n",
       " Min.   :2.00   masculino:3  \n",
       " 1st Qu.:3.25   femenino :3  \n",
       " Median :4.00                \n",
       " Mean   :4.00                \n",
       " 3rd Qu.:4.75                \n",
       " Max.   :6.00                "
      ]
     },
     "metadata": {},
     "output_type": "display_data"
    }
   ],
   "source": [
    "summary(data_f)"
   ]
  },
  {
   "cell_type": "code",
   "execution_count": 8,
   "metadata": {},
   "outputs": [
    {
     "data": {
      "text/plain": [
       "   Min. 1st Qu.  Median    Mean 3rd Qu.    Max. \n",
       "   2.00    3.25    4.00    4.00    4.75    6.00 "
      ]
     },
     "metadata": {},
     "output_type": "display_data"
    }
   ],
   "source": [
    "summary(data_f$num_hijos)"
   ]
  },
  {
   "cell_type": "code",
   "execution_count": 9,
   "metadata": {},
   "outputs": [
    {
     "data": {
      "text/html": [
       "<dl class=dl-horizontal>\n",
       "\t<dt>masculino</dt>\n",
       "\t\t<dd>3</dd>\n",
       "\t<dt>femenino</dt>\n",
       "\t\t<dd>3</dd>\n",
       "</dl>\n"
      ],
      "text/latex": [
       "\\begin{description*}\n",
       "\\item[masculino] 3\n",
       "\\item[femenino] 3\n",
       "\\end{description*}\n"
      ],
      "text/markdown": [
       "masculino\n",
       ":   3femenino\n",
       ":   3\n",
       "\n"
      ],
      "text/plain": [
       "masculino  femenino \n",
       "        3         3 "
      ]
     },
     "metadata": {},
     "output_type": "display_data"
    }
   ],
   "source": [
    "summary(data_f$sexo)"
   ]
  },
  {
   "cell_type": "code",
   "execution_count": 11,
   "metadata": {},
   "outputs": [
    {
     "data": {
      "text/html": [
       "<table>\n",
       "<thead><tr><th></th><th scope=col>num_hijos</th><th scope=col>sexo</th></tr></thead>\n",
       "<tbody>\n",
       "\t<tr><th scope=row>1</th><td>3        </td><td>masculino</td></tr>\n",
       "\t<tr><th scope=row>2</th><td>2        </td><td>masculino</td></tr>\n",
       "\t<tr><th scope=row>5</th><td>6        </td><td>masculino</td></tr>\n",
       "</tbody>\n",
       "</table>\n"
      ],
      "text/latex": [
       "\\begin{tabular}{r|ll}\n",
       "  & num\\_hijos & sexo\\\\\n",
       "\\hline\n",
       "\t1 & 3         & masculino\\\\\n",
       "\t2 & 2         & masculino\\\\\n",
       "\t5 & 6         & masculino\\\\\n",
       "\\end{tabular}\n"
      ],
      "text/markdown": [
       "\n",
       "| <!--/--> | num_hijos | sexo |\n",
       "|---|---|---|\n",
       "| 1 | 3         | masculino |\n",
       "| 2 | 2         | masculino |\n",
       "| 5 | 6         | masculino |\n",
       "\n"
      ],
      "text/plain": [
       "  num_hijos sexo     \n",
       "1 3         masculino\n",
       "2 2         masculino\n",
       "5 6         masculino"
      ]
     },
     "metadata": {},
     "output_type": "display_data"
    }
   ],
   "source": [
    "data_f[data_f$sexo == \"masculino\", ]  "
   ]
  },
  {
   "cell_type": "code",
   "execution_count": 12,
   "metadata": {},
   "outputs": [
    {
     "data": {
      "text/html": [
       "<table>\n",
       "<thead><tr><th scope=col>num_hijos</th><th scope=col>sexo</th></tr></thead>\n",
       "<tbody>\n",
       "\t<tr><td>3        </td><td>masculino</td></tr>\n",
       "\t<tr><td>2        </td><td>masculino</td></tr>\n",
       "</tbody>\n",
       "</table>\n"
      ],
      "text/latex": [
       "\\begin{tabular}{r|ll}\n",
       " num\\_hijos & sexo\\\\\n",
       "\\hline\n",
       "\t 3         & masculino\\\\\n",
       "\t 2         & masculino\\\\\n",
       "\\end{tabular}\n"
      ],
      "text/markdown": [
       "\n",
       "| num_hijos | sexo |\n",
       "|---|---|\n",
       "| 3         | masculino |\n",
       "| 2         | masculino |\n",
       "\n"
      ],
      "text/plain": [
       "  num_hijos sexo     \n",
       "1 3         masculino\n",
       "2 2         masculino"
      ]
     },
     "metadata": {},
     "output_type": "display_data"
    }
   ],
   "source": [
    "data_f[data_f$num_hijos <= 3, ]"
   ]
  },
  {
   "cell_type": "markdown",
   "metadata": {},
   "source": [
    "OBS: Podemos pensar en los factores como un vector de enteros en el que cada entero representa una etiqueta.\n",
    "0 para masculino y 1 para femenino."
   ]
  }
 ],
 "metadata": {
  "kernelspec": {
   "display_name": "R",
   "language": "R",
   "name": "ir"
  },
  "language_info": {
   "codemirror_mode": "r",
   "file_extension": ".r",
   "mimetype": "text/x-r-source",
   "name": "R",
   "pygments_lexer": "r",
   "version": "3.6.1"
  }
 },
 "nbformat": 4,
 "nbformat_minor": 4
}
