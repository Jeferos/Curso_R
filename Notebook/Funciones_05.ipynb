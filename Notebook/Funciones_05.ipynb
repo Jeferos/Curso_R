{
 "cells": [
  {
   "cell_type": "markdown",
   "metadata": {},
   "source": [
    "## Funciones"
   ]
  },
  {
   "cell_type": "markdown",
   "metadata": {},
   "source": [
    "0. ¿Qué es una función?\n",
    "  \n",
    "Son objetos que nos permiten simplificar actividades.\n",
    "\n",
    "Sintaxis básica:\n",
    "                    nombre <- function( argumentos ) { expresión }\n",
    "\n",
    "+ nombre:     corresponde a la denominación de la función creada. Nos permite ejecutarla y hacer referencias a ella.\n",
    "+ function(): proporciona mecanismos básicos para definir nuevas funciones en R.  \n",
    "+ argumentos: son los valores de entrada que necesita la función para realizar sus operaciones. Pueden ser: datos, estrucutras de datos, u otras funciones.\n",
    "+ expresión:  son las órdenes que van encerrado entre llaves (también es llamado cuerpo). Aquí es donde se colocan los códigos.\n",
    "\n",
    "\n",
    "1. Creación de funciones simples en R\n",
    "\n",
    "1.1. Función suma"
   ]
  },
  {
   "cell_type": "code",
   "execution_count": 1,
   "metadata": {},
   "outputs": [
    {
     "data": {
      "text/html": [
       "3"
      ],
      "text/latex": [
       "3"
      ],
      "text/markdown": [
       "3"
      ],
      "text/plain": [
       "[1] 3"
      ]
     },
     "metadata": {},
     "output_type": "display_data"
    },
    {
     "data": {
      "text/html": [
       "5.41421356237309"
      ],
      "text/latex": [
       "5.41421356237309"
      ],
      "text/markdown": [
       "5.41421356237309"
      ],
      "text/plain": [
       "[1] 5.414214"
      ]
     },
     "metadata": {},
     "output_type": "display_data"
    },
    {
     "data": {
      "text/html": [
       "1.6094379124341"
      ],
      "text/latex": [
       "1.6094379124341"
      ],
      "text/markdown": [
       "1.6094379124341"
      ],
      "text/plain": [
       "[1] 1.609438"
      ]
     },
     "metadata": {},
     "output_type": "display_data"
    }
   ],
   "source": [
    "s <- function(x, y)   # \"s\" es el nombre de la función \"suma\", los argumentos son \"x\" e \"y\".\n",
    "  {                     # La expresión de la función inicia desde este llaves.\n",
    "    x + y               # \"x + y\" es la expresión que R ejecutará¡ y es el \"cuerpo\" de la función.\n",
    "  }                     # Esta llave cierra la expresión de la función.\n",
    "  \n",
    "s(1,2)                # Introducimos los valores de los argumentos para ejecutar la función.\n",
    "s(sqrt(2), 4)\n",
    "s(log(10), -log(2))"
   ]
  },
  {
   "cell_type": "markdown",
   "metadata": {},
   "source": [
    "1.2. Función hipotenusa"
   ]
  },
  {
   "cell_type": "code",
   "execution_count": 2,
   "metadata": {},
   "outputs": [
    {
     "data": {
      "text/html": [
       "5"
      ],
      "text/latex": [
       "5"
      ],
      "text/markdown": [
       "5"
      ],
      "text/plain": [
       "[1] 5"
      ]
     },
     "metadata": {},
     "output_type": "display_data"
    }
   ],
   "source": [
    "hipotenusa <- function(x,y) { sqrt(x^2 + y^2)}       # Creamos la función.  \n",
    "hipotenusa(3,4)                                      # Probamos la función creada."
   ]
  },
  {
   "cell_type": "markdown",
   "metadata": {},
   "source": [
    "1.3. Función cúbica"
   ]
  },
  {
   "cell_type": "code",
   "execution_count": 3,
   "metadata": {},
   "outputs": [
    {
     "data": {
      "text/html": [
       "<ol class=list-inline>\n",
       "\t<li>-216</li>\n",
       "\t<li>-125</li>\n",
       "\t<li>-64</li>\n",
       "\t<li>-27</li>\n",
       "\t<li>-8</li>\n",
       "\t<li>-1</li>\n",
       "\t<li>0</li>\n",
       "\t<li>1</li>\n",
       "\t<li>8</li>\n",
       "\t<li>27</li>\n",
       "\t<li>64</li>\n",
       "\t<li>125</li>\n",
       "\t<li>216</li>\n",
       "</ol>\n"
      ],
      "text/latex": [
       "\\begin{enumerate*}\n",
       "\\item -216\n",
       "\\item -125\n",
       "\\item -64\n",
       "\\item -27\n",
       "\\item -8\n",
       "\\item -1\n",
       "\\item 0\n",
       "\\item 1\n",
       "\\item 8\n",
       "\\item 27\n",
       "\\item 64\n",
       "\\item 125\n",
       "\\item 216\n",
       "\\end{enumerate*}\n"
      ],
      "text/markdown": [
       "1. -216\n",
       "2. -125\n",
       "3. -64\n",
       "4. -27\n",
       "5. -8\n",
       "6. -1\n",
       "7. 0\n",
       "8. 1\n",
       "9. 8\n",
       "10. 27\n",
       "11. 64\n",
       "12. 125\n",
       "13. 216\n",
       "\n",
       "\n"
      ],
      "text/plain": [
       " [1] -216 -125  -64  -27   -8   -1    0    1    8   27   64  125  216"
      ]
     },
     "metadata": {},
     "output_type": "display_data"
    },
    {
     "data": {
      "image/png": "[encoded data removed]",
      "text/plain": [
       "plot without title"
      ]
     },
     "metadata": {},
     "output_type": "display_data"
    }
   ],
   "source": [
    "cu <- function(x) { x^3 }     # Expresión que R ejecutará.  \n",
    "x0 <- (-6:6)                  # Creamos el vector de valores iniciales para el argumento x.\n",
    "cu(x0)                        # Evaluamos la función \"c\" en el vector de valores iniciales \"x0\".\n",
    "plot(cu(x0))                  # Graficamos la función para evaluar la función cúbica creada."
   ]
  },
  {
   "cell_type": "markdown",
   "metadata": {},
   "source": [
    "1.4. Función media aritmética"
   ]
  },
  {
   "cell_type": "code",
   "execution_count": 4,
   "metadata": {},
   "outputs": [
    {
     "data": {
      "text/html": [
       "5.5"
      ],
      "text/latex": [
       "5.5"
      ],
      "text/markdown": [
       "5.5"
      ],
      "text/plain": [
       "[1] 5.5"
      ]
     },
     "metadata": {},
     "output_type": "display_data"
    },
    {
     "data": {
      "text/html": [
       "5.5"
      ],
      "text/latex": [
       "5.5"
      ],
      "text/markdown": [
       "5.5"
      ],
      "text/plain": [
       "[1] 5.5"
      ]
     },
     "metadata": {},
     "output_type": "display_data"
    }
   ],
   "source": [
    "ma <- function(x) { sum(x)/length(x) }  # Creamos la expresión que R ejecutará. \n",
    "x <- c(1:10)                            # Creamos el vector x que va de 1 a 10.\n",
    "ma(x)                                   # Llamamos la función.\n",
    "mean(x)                                 # Comprobamos mediante la función mean()."
   ]
  },
  {
   "cell_type": "markdown",
   "metadata": {},
   "source": [
    "OBS: Note lo siguiente:\n",
    "  \n",
    "Usamos la función sum() y length(), que son funciones propias en R para contruir nuestra función.\n",
    "La función sum() devuelve la suma de los valores del vector x asignado.\n",
    "La función length() devuelve la longitud o tamaño del vector x.\n",
    "  \n",
    "  \n",
    "1.5. Función \"Varianza\" "
   ]
  },
  {
   "cell_type": "code",
   "execution_count": 5,
   "metadata": {},
   "outputs": [
    {
     "data": {
      "text/html": [
       "9.16666666666667"
      ],
      "text/latex": [
       "9.16666666666667"
      ],
      "text/markdown": [
       "9.16666666666667"
      ],
      "text/plain": [
       "[1] 9.166667"
      ]
     },
     "metadata": {},
     "output_type": "display_data"
    },
    {
     "data": {
      "text/html": [
       "9.16666666666667"
      ],
      "text/latex": [
       "9.16666666666667"
      ],
      "text/markdown": [
       "9.16666666666667"
      ],
      "text/plain": [
       "[1] 9.166667"
      ]
     },
     "metadata": {},
     "output_type": "display_data"
    }
   ],
   "source": [
    "vari <- function(x) { sum((x-mean(x))^2)/(length(x)-1) }     # Función varianza.  \n",
    "x <- c(1:10)                                                   # Vector de datos.\n",
    "vari(x)                         # Llamamosla función varianza creada.\n",
    "var(x)                          # Comprobamos si la función devuelve correctamente la varianza de x."
   ]
  },
  {
   "cell_type": "markdown",
   "metadata": {},
   "source": [
    "OBS: Note que R devuelve la \"cuasi-varianza\" por medio de la función var(), es por eso que nuestra función también lo es."
   ]
  }
 ],
 "metadata": {
  "kernelspec": {
   "display_name": "R",
   "language": "R",
   "name": "ir"
  },
  "language_info": {
   "codemirror_mode": "r",
   "file_extension": ".r",
   "mimetype": "text/x-r-source",
   "name": "R",
   "pygments_lexer": "r",
   "version": "3.6.1"
  }
 },
 "nbformat": 4,
 "nbformat_minor": 4
}
