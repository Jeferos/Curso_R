{
 "cells": [
  {
   "cell_type": "markdown",
   "metadata": {},
   "source": [
    "### 3. Recodificación y ordenamiento de factores\n",
    "#### 3.1. Recodificación con la función recode() del paquete \"car\"\n",
    "  \n",
    "Función recode(): permite recodificar un factor\n",
    "\n",
    "Función rpois(): genera desviaciones aleatorias"
   ]
  },
  {
   "cell_type": "code",
   "execution_count": 3,
   "metadata": {},
   "outputs": [
    {
     "data": {
      "text/plain": [
       "   Min. 1st Qu.  Median    Mean 3rd Qu.    Max. \n",
       "   0.00    2.00    3.00    3.06    4.00    8.00 "
      ]
     },
     "metadata": {},
     "output_type": "display_data"
    }
   ],
   "source": [
    "set.seed(666)                         # Fijamos una semilla para evitar que los valores generados cambien \n",
    "ingreso <- rpois(100, 3)     # Creamos aleatoriamente un objeto \n",
    "summary(ingreso)                     # Mostramos los datos del objeto creado"
   ]
  },
  {
   "cell_type": "code",
   "execution_count": 4,
   "metadata": {},
   "outputs": [
    {
     "data": {
      "image/png": "[encoded data removed]",
      "text/plain": [
       "plot without title"
      ]
     },
     "metadata": {},
     "output_type": "display_data"
    }
   ],
   "source": [
    "boxplot(ingreso)                      # Graficamos los datos y observamos que rangos podemos tener"
   ]
  },
  {
   "cell_type": "markdown",
   "metadata": {},
   "source": [
    "De los datos, vamos a recodificar de la siguiente manera:\n",
    "\n",
    "valores de 0-2: Extremo\n",
    "     \n",
    "valores de 3-4: Pobre     \n",
    "\n",
    "valores de 5-6: Medio\n",
    "     \n",
    "valores de 7-8: Rico"
   ]
  },
  {
   "cell_type": "code",
   "execution_count": 9,
   "metadata": {},
   "outputs": [
    {
     "data": {
      "text/html": [
       "TRUE"
      ],
      "text/latex": [
       "TRUE"
      ],
      "text/markdown": [
       "TRUE"
      ],
      "text/plain": [
       "[1] TRUE"
      ]
     },
     "metadata": {},
     "output_type": "display_data"
    }
   ],
   "source": [
    "#install.packages(\"car\")       # Instalamos el paquete \"car\", solo ejecutarlo una vez\n",
    "library(car)                          # Activamos el paquete \"car\", donde se encuentra la función recode()\n",
    "  \n",
    "ingreso_rec <- recode(ingreso, \" c(0,1,2) = 'Extremo';\n",
    "                    c(3,4) = 'Pobre'; c(5,6) = 'Medio';\n",
    "                    c(7,max(ingreso)) = 'Rico' \")\n",
    "is.vector(ingreso_rec)                      # Consultamos si es un vector, La respuesta es TRUE"
   ]
  },
  {
   "cell_type": "code",
   "execution_count": 10,
   "metadata": {},
   "outputs": [
    {
     "data": {
      "text/plain": [
       "ingreso_rec\n",
       "Extremo   Medio   Pobre    Rico \n",
       "     39      12      42       7 "
      ]
     },
     "metadata": {},
     "output_type": "display_data"
    }
   ],
   "source": [
    "table(ingreso_rec)                          # Generamos una tabla de frecuencias (absolutas)"
   ]
  },
  {
   "cell_type": "code",
   "execution_count": 13,
   "metadata": {},
   "outputs": [
    {
     "data": {
      "text/html": [
       "'factor'"
      ],
      "text/latex": [
       "'factor'"
      ],
      "text/markdown": [
       "'factor'"
      ],
      "text/plain": [
       "[1] \"factor\""
      ]
     },
     "metadata": {},
     "output_type": "display_data"
    }
   ],
   "source": [
    "ingreso_rec_fact <- as.factor(ingreso_rec)  # Transformamos a factor para poder graficar el objeto \n",
    "class(ingreso_rec_fact)                     # Consultamos la clase, y efectivamente es un factor"
   ]
  },
  {
   "cell_type": "code",
   "execution_count": 14,
   "metadata": {},
   "outputs": [
    {
     "data": {
      "image/png": "[encoded data removed]",
      "text/plain": [
       "plot without title"
      ]
     },
     "metadata": {},
     "output_type": "display_data"
    }
   ],
   "source": [
    "plot(ingreso_rec_fact)                      # Graficamos. Note que el gráfico no esta ordenado adecuadamente"
   ]
  },
  {
   "cell_type": "code",
   "execution_count": 16,
   "metadata": {},
   "outputs": [],
   "source": [
    "ingreso_ord <- factor(ingreso_rec,                             # Note que usamos el vector \"ingreso_rec\".\n",
    "                       ordered = TRUE,                           # Ordenamos el vector transformado en factor.\n",
    "                       levels = c(\"Extremo\",\"Pobre\",\"Medio\",\"Rico\"),\n",
    "                       labels = c(\"Extremo\",\"Pobre\",\"Medio\",\"Rico\"))"
   ]
  },
  {
   "cell_type": "code",
   "execution_count": 17,
   "metadata": {},
   "outputs": [
    {
     "data": {
      "image/png": "[encoded data removed]",
      "text/plain": [
       "plot without title"
      ]
     },
     "metadata": {},
     "output_type": "display_data"
    }
   ],
   "source": [
    "plot(ingreso_ord, col = c(\"red\",\"lightblue\",\"green\",\"gold\"))   # Graficamos."
   ]
  },
  {
   "cell_type": "code",
   "execution_count": null,
   "metadata": {},
   "outputs": [],
   "source": []
  }
 ],
 "metadata": {
  "kernelspec": {
   "display_name": "R",
   "language": "R",
   "name": "ir"
  },
  "language_info": {
   "codemirror_mode": "r",
   "file_extension": ".r",
   "mimetype": "text/x-r-source",
   "name": "R",
   "pygments_lexer": "r",
   "version": "3.6.1"
  }
 },
 "nbformat": 4,
 "nbformat_minor": 4
}
