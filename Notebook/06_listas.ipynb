{
 "cells": [
  {
   "cell_type": "markdown",
   "metadata": {},
   "source": [
    "## Listas\n",
    "#### 0. ¿Qué es una lista?\n",
    "  \n",
    "Son objetos que nos permiten almacenar \"otros objetos\" de \"clases diferentes\" en una \"misma estructura\" (lista).\n",
    "En R una lista es un objeto constituido por una colección de objetos conocidos como componentes.\n",
    "La principal ventaja de las listas es que las \"columnas\" no tienen que tener el mismo tamaño, como en las matrices y data frames.\n",
    "\n",
    "\n",
    "#### 1. Creación de listas en R\n",
    "\n",
    "1.1. Función list()\n",
    "\n",
    "Es una función genérica que intenta forzar su argumento a una lista. \n",
    "Para las funciones, esto devuelve la concatenación de la lista de argumentos formales y el cuerpo de la función.\n",
    "\n",
    "  \n",
    "Vamos a crear una lista un poco más sencilla y sin especificar los nombres de los objetos que la componen."
   ]
  },
  {
   "cell_type": "code",
   "execution_count": 5,
   "metadata": {},
   "outputs": [
    {
     "data": {
      "text/html": [
       "<ol>\n",
       "\t<li><ol class=list-inline>\n",
       "\t<li>1</li>\n",
       "\t<li>2</li>\n",
       "\t<li>3</li>\n",
       "\t<li>4</li>\n",
       "\t<li>5</li>\n",
       "\t<li>6</li>\n",
       "\t<li>7</li>\n",
       "\t<li>8</li>\n",
       "\t<li>9</li>\n",
       "\t<li>10</li>\n",
       "</ol>\n",
       "</li>\n",
       "\t<li><ol class=list-inline>\n",
       "\t<li>'A'</li>\n",
       "\t<li>'B'</li>\n",
       "\t<li>'C'</li>\n",
       "</ol>\n",
       "</li>\n",
       "</ol>\n"
      ],
      "text/latex": [
       "\\begin{enumerate}\n",
       "\\item \\begin{enumerate*}\n",
       "\\item 1\n",
       "\\item 2\n",
       "\\item 3\n",
       "\\item 4\n",
       "\\item 5\n",
       "\\item 6\n",
       "\\item 7\n",
       "\\item 8\n",
       "\\item 9\n",
       "\\item 10\n",
       "\\end{enumerate*}\n",
       "\n",
       "\\item \\begin{enumerate*}\n",
       "\\item 'A'\n",
       "\\item 'B'\n",
       "\\item 'C'\n",
       "\\end{enumerate*}\n",
       "\n",
       "\\end{enumerate}\n"
      ],
      "text/markdown": [
       "1. 1. 1\n",
       "2. 2\n",
       "3. 3\n",
       "4. 4\n",
       "5. 5\n",
       "6. 6\n",
       "7. 7\n",
       "8. 8\n",
       "9. 9\n",
       "10. 10\n",
       "\n",
       "\n",
       "\n",
       "2. 1. 'A'\n",
       "2. 'B'\n",
       "3. 'C'\n",
       "\n",
       "\n",
       "\n",
       "\n",
       "\n"
      ],
      "text/plain": [
       "[[1]]\n",
       " [1]  1  2  3  4  5  6  7  8  9 10\n",
       "\n",
       "[[2]]\n",
       "[1] \"A\" \"B\" \"C\"\n"
      ]
     },
     "metadata": {},
     "output_type": "display_data"
    }
   ],
   "source": [
    "lista01 <- list(1:10, c(\"A\",\"B\",\"C\"))               # Creamos una nueva lista sin especificar nombres.\n",
    "lista01                                             # Solicitamos que nos devuelva los elementos de toda la lista."
   ]
  },
  {
   "cell_type": "code",
   "execution_count": 6,
   "metadata": {},
   "outputs": [
    {
     "data": {
      "text/html": [
       "<ol class=list-inline>\n",
       "\t<li>'uno'</li>\n",
       "\t<li>'dos'</li>\n",
       "\t<li>'tres'</li>\n",
       "</ol>\n"
      ],
      "text/latex": [
       "\\begin{enumerate*}\n",
       "\\item 'uno'\n",
       "\\item 'dos'\n",
       "\\item 'tres'\n",
       "\\end{enumerate*}\n"
      ],
      "text/markdown": [
       "1. 'uno'\n",
       "2. 'dos'\n",
       "3. 'tres'\n",
       "\n",
       "\n"
      ],
      "text/plain": [
       "[1] \"uno\"  \"dos\"  \"tres\""
      ]
     },
     "metadata": {},
     "output_type": "display_data"
    },
    {
     "data": {
      "text/html": [
       "TRUE"
      ],
      "text/latex": [
       "TRUE"
      ],
      "text/markdown": [
       "TRUE"
      ],
      "text/plain": [
       "[1] TRUE"
      ]
     },
     "metadata": {},
     "output_type": "display_data"
    }
   ],
   "source": [
    "# Ahora, crearemos una lista especificando el nombre de las columnas de la lista.\n",
    "# En este caso, debemos especificar cada uno de los elementos que la componen.\n",
    "  \n",
    "lista02 <- list(uno = 1, dos = c(1:6), tres = rep(1,3))  # Creamos la lista\n",
    "names(lista02)\n",
    "is.list(lista02)"
   ]
  },
  {
   "cell_type": "code",
   "execution_count": null,
   "metadata": {},
   "outputs": [],
   "source": [
    "# Vemos que los elementos de la lista, a los que llamamos *uno*, *dos* y *tres*, tienen tamaños diferentes.\n",
    "# La unica forma de almacenarlos en un mismo objeto es mediante una lista.\n",
    "# Función is.list(): devuelve TRUE si y solo si su argumento es una lista. "
   ]
  },
  {
   "cell_type": "markdown",
   "metadata": {},
   "source": [
    "#### 1.2. Función as.list()"
   ]
  },
  {
   "cell_type": "code",
   "execution_count": 7,
   "metadata": {},
   "outputs": [
    {
     "data": {
      "text/html": [
       "<table>\n",
       "<tbody>\n",
       "\t<tr><td>1</td><td>7</td><td>6</td></tr>\n",
       "\t<tr><td>3</td><td>9</td><td>4</td></tr>\n",
       "\t<tr><td>5</td><td>8</td><td>2</td></tr>\n",
       "</tbody>\n",
       "</table>\n"
      ],
      "text/latex": [
       "\\begin{tabular}{lll}\n",
       "\t 1 & 7 & 6\\\\\n",
       "\t 3 & 9 & 4\\\\\n",
       "\t 5 & 8 & 2\\\\\n",
       "\\end{tabular}\n"
      ],
      "text/markdown": [
       "\n",
       "| 1 | 7 | 6 |\n",
       "| 3 | 9 | 4 |\n",
       "| 5 | 8 | 2 |\n",
       "\n"
      ],
      "text/plain": [
       "     [,1] [,2] [,3]\n",
       "[1,] 1    7    6   \n",
       "[2,] 3    9    4   \n",
       "[3,] 5    8    2   "
      ]
     },
     "metadata": {},
     "output_type": "display_data"
    }
   ],
   "source": [
    "# Creamos una matriz\n",
    "matriz01 <- matrix(c(1,3,5,7,9,8,6,4,2), 3, 3)\n",
    "matriz01"
   ]
  },
  {
   "cell_type": "code",
   "execution_count": 8,
   "metadata": {},
   "outputs": [
    {
     "data": {
      "text/html": [
       "<ol>\n",
       "\t<li>1</li>\n",
       "\t<li>3</li>\n",
       "\t<li>5</li>\n",
       "\t<li>7</li>\n",
       "\t<li>9</li>\n",
       "\t<li>8</li>\n",
       "\t<li>6</li>\n",
       "\t<li>4</li>\n",
       "\t<li>2</li>\n",
       "</ol>\n"
      ],
      "text/latex": [
       "\\begin{enumerate}\n",
       "\\item 1\n",
       "\\item 3\n",
       "\\item 5\n",
       "\\item 7\n",
       "\\item 9\n",
       "\\item 8\n",
       "\\item 6\n",
       "\\item 4\n",
       "\\item 2\n",
       "\\end{enumerate}\n"
      ],
      "text/markdown": [
       "1. 1\n",
       "2. 3\n",
       "3. 5\n",
       "4. 7\n",
       "5. 9\n",
       "6. 8\n",
       "7. 6\n",
       "8. 4\n",
       "9. 2\n",
       "\n",
       "\n"
      ],
      "text/plain": [
       "[[1]]\n",
       "[1] 1\n",
       "\n",
       "[[2]]\n",
       "[1] 3\n",
       "\n",
       "[[3]]\n",
       "[1] 5\n",
       "\n",
       "[[4]]\n",
       "[1] 7\n",
       "\n",
       "[[5]]\n",
       "[1] 9\n",
       "\n",
       "[[6]]\n",
       "[1] 8\n",
       "\n",
       "[[7]]\n",
       "[1] 6\n",
       "\n",
       "[[8]]\n",
       "[1] 4\n",
       "\n",
       "[[9]]\n",
       "[1] 2\n"
      ]
     },
     "metadata": {},
     "output_type": "display_data"
    },
    {
     "data": {
      "text/html": [
       "'list'"
      ],
      "text/latex": [
       "'list'"
      ],
      "text/markdown": [
       "'list'"
      ],
      "text/plain": [
       "[1] \"list\""
      ]
     },
     "metadata": {},
     "output_type": "display_data"
    },
    {
     "data": {
      "text/plain": [
       "NULL"
      ]
     },
     "metadata": {},
     "output_type": "display_data"
    }
   ],
   "source": [
    "# Forzamos a que la matrix sea una lista\n",
    "lista03 <- as.list(matriz01)\n",
    "lista03\n",
    "class(lista03)\n",
    "names(lista03)"
   ]
  },
  {
   "cell_type": "code",
   "execution_count": 9,
   "metadata": {},
   "outputs": [
    {
     "data": {
      "text/html": [
       "'list'"
      ],
      "text/latex": [
       "'list'"
      ],
      "text/markdown": [
       "'list'"
      ],
      "text/plain": [
       "[1] \"list\""
      ]
     },
     "metadata": {},
     "output_type": "display_data"
    },
    {
     "data": {
      "text/html": [
       "'numeric'"
      ],
      "text/latex": [
       "'numeric'"
      ],
      "text/markdown": [
       "'numeric'"
      ],
      "text/plain": [
       "[1] \"numeric\""
      ]
     },
     "metadata": {},
     "output_type": "display_data"
    },
    {
     "data": {
      "text/html": [
       "'integer'"
      ],
      "text/latex": [
       "'integer'"
      ],
      "text/markdown": [
       "'integer'"
      ],
      "text/plain": [
       "[1] \"integer\""
      ]
     },
     "metadata": {},
     "output_type": "display_data"
    },
    {
     "data": {
      "text/html": [
       "'numeric'"
      ],
      "text/latex": [
       "'numeric'"
      ],
      "text/markdown": [
       "'numeric'"
      ],
      "text/plain": [
       "[1] \"numeric\""
      ]
     },
     "metadata": {},
     "output_type": "display_data"
    }
   ],
   "source": [
    "# OBS: podemos observar las diferentes clases de los elementos que componen la lista.\n",
    "\n",
    "class(lista02)\n",
    "class(lista02$uno)\n",
    "class(lista02$dos)\n",
    "class(lista02$tres)"
   ]
  },
  {
   "cell_type": "markdown",
   "metadata": {},
   "source": [
    "####  2. Acceso a los elementos con nombre de una lista"
   ]
  },
  {
   "cell_type": "code",
   "execution_count": 10,
   "metadata": {},
   "outputs": [
    {
     "data": {
      "text/html": [
       "1"
      ],
      "text/latex": [
       "1"
      ],
      "text/markdown": [
       "1"
      ],
      "text/plain": [
       "[1] 1"
      ]
     },
     "metadata": {},
     "output_type": "display_data"
    },
    {
     "data": {
      "text/html": [
       "<ol class=list-inline>\n",
       "\t<li>1</li>\n",
       "\t<li>2</li>\n",
       "\t<li>3</li>\n",
       "\t<li>4</li>\n",
       "\t<li>5</li>\n",
       "\t<li>6</li>\n",
       "</ol>\n"
      ],
      "text/latex": [
       "\\begin{enumerate*}\n",
       "\\item 1\n",
       "\\item 2\n",
       "\\item 3\n",
       "\\item 4\n",
       "\\item 5\n",
       "\\item 6\n",
       "\\end{enumerate*}\n"
      ],
      "text/markdown": [
       "1. 1\n",
       "2. 2\n",
       "3. 3\n",
       "4. 4\n",
       "5. 5\n",
       "6. 6\n",
       "\n",
       "\n"
      ],
      "text/plain": [
       "[1] 1 2 3 4 5 6"
      ]
     },
     "metadata": {},
     "output_type": "display_data"
    },
    {
     "data": {
      "text/html": [
       "<ol class=list-inline>\n",
       "\t<li>1</li>\n",
       "\t<li>1</li>\n",
       "\t<li>1</li>\n",
       "</ol>\n"
      ],
      "text/latex": [
       "\\begin{enumerate*}\n",
       "\\item 1\n",
       "\\item 1\n",
       "\\item 1\n",
       "\\end{enumerate*}\n"
      ],
      "text/markdown": [
       "1. 1\n",
       "2. 1\n",
       "3. 1\n",
       "\n",
       "\n"
      ],
      "text/plain": [
       "[1] 1 1 1"
      ]
     },
     "metadata": {},
     "output_type": "display_data"
    }
   ],
   "source": [
    "# Acceso a los elementos con nombre de una lista\n",
    "  \n",
    "lista02$uno         # Accedemos al primer elemento de la lista01, llamado \"uno\".\n",
    "lista02$dos         # Accedemos al segundo elemento de la lista01, llamado \"dos\".\n",
    "lista02$tres        # Accedemos al tercer elemento de la lista01, llamado \"tres\"."
   ]
  },
  {
   "cell_type": "code",
   "execution_count": 11,
   "metadata": {},
   "outputs": [
    {
     "data": {
      "text/html": [
       "<ol class=list-inline>\n",
       "\t<li>1</li>\n",
       "\t<li>2</li>\n",
       "\t<li>3</li>\n",
       "\t<li>4</li>\n",
       "\t<li>5</li>\n",
       "\t<li>6</li>\n",
       "\t<li>7</li>\n",
       "\t<li>8</li>\n",
       "\t<li>9</li>\n",
       "\t<li>10</li>\n",
       "</ol>\n"
      ],
      "text/latex": [
       "\\begin{enumerate*}\n",
       "\\item 1\n",
       "\\item 2\n",
       "\\item 3\n",
       "\\item 4\n",
       "\\item 5\n",
       "\\item 6\n",
       "\\item 7\n",
       "\\item 8\n",
       "\\item 9\n",
       "\\item 10\n",
       "\\end{enumerate*}\n"
      ],
      "text/markdown": [
       "1. 1\n",
       "2. 2\n",
       "3. 3\n",
       "4. 4\n",
       "5. 5\n",
       "6. 6\n",
       "7. 7\n",
       "8. 8\n",
       "9. 9\n",
       "10. 10\n",
       "\n",
       "\n"
      ],
      "text/plain": [
       " [1]  1  2  3  4  5  6  7  8  9 10"
      ]
     },
     "metadata": {},
     "output_type": "display_data"
    },
    {
     "data": {
      "text/html": [
       "<ol class=list-inline>\n",
       "\t<li>'A'</li>\n",
       "\t<li>'B'</li>\n",
       "\t<li>'C'</li>\n",
       "</ol>\n"
      ],
      "text/latex": [
       "\\begin{enumerate*}\n",
       "\\item 'A'\n",
       "\\item 'B'\n",
       "\\item 'C'\n",
       "\\end{enumerate*}\n"
      ],
      "text/markdown": [
       "1. 'A'\n",
       "2. 'B'\n",
       "3. 'C'\n",
       "\n",
       "\n"
      ],
      "text/plain": [
       "[1] \"A\" \"B\" \"C\""
      ]
     },
     "metadata": {},
     "output_type": "display_data"
    },
    {
     "data": {
      "text/html": [
       "1"
      ],
      "text/latex": [
       "1"
      ],
      "text/markdown": [
       "1"
      ],
      "text/plain": [
       "[1] 1"
      ]
     },
     "metadata": {},
     "output_type": "display_data"
    },
    {
     "data": {
      "text/html": [
       "3"
      ],
      "text/latex": [
       "3"
      ],
      "text/markdown": [
       "3"
      ],
      "text/plain": [
       "[1] 3"
      ]
     },
     "metadata": {},
     "output_type": "display_data"
    },
    {
     "data": {
      "text/html": [
       "5"
      ],
      "text/latex": [
       "5"
      ],
      "text/markdown": [
       "5"
      ],
      "text/plain": [
       "[1] 5"
      ]
     },
     "metadata": {},
     "output_type": "display_data"
    },
    {
     "data": {
      "text/html": [
       "7"
      ],
      "text/latex": [
       "7"
      ],
      "text/markdown": [
       "7"
      ],
      "text/plain": [
       "[1] 7"
      ]
     },
     "metadata": {},
     "output_type": "display_data"
    },
    {
     "data": {
      "text/html": [
       "9"
      ],
      "text/latex": [
       "9"
      ],
      "text/markdown": [
       "9"
      ],
      "text/plain": [
       "[1] 9"
      ]
     },
     "metadata": {},
     "output_type": "display_data"
    },
    {
     "data": {
      "text/html": [
       "8"
      ],
      "text/latex": [
       "8"
      ],
      "text/markdown": [
       "8"
      ],
      "text/plain": [
       "[1] 8"
      ]
     },
     "metadata": {},
     "output_type": "display_data"
    },
    {
     "data": {
      "text/html": [
       "6"
      ],
      "text/latex": [
       "6"
      ],
      "text/markdown": [
       "6"
      ],
      "text/plain": [
       "[1] 6"
      ]
     },
     "metadata": {},
     "output_type": "display_data"
    },
    {
     "data": {
      "text/html": [
       "4"
      ],
      "text/latex": [
       "4"
      ],
      "text/markdown": [
       "4"
      ],
      "text/plain": [
       "[1] 4"
      ]
     },
     "metadata": {},
     "output_type": "display_data"
    },
    {
     "data": {
      "text/html": [
       "2"
      ],
      "text/latex": [
       "2"
      ],
      "text/markdown": [
       "2"
      ],
      "text/plain": [
       "[1] 2"
      ]
     },
     "metadata": {},
     "output_type": "display_data"
    }
   ],
   "source": [
    "# Acceso a los elementos sin nombre de una lista\n",
    "  \n",
    "lista01[[1]]    # Accedemos al primer elemento de la \"lista01\".\n",
    "lista01[[2]]    # Accedemos al segundo elemento de la \"lista01\".\n",
    "\n",
    "lista03[[1]]\n",
    "lista03[[2]]\n",
    "lista03[[3]]\n",
    "lista03[[4]]  \n",
    "lista03[[5]]\n",
    "lista03[[6]]\n",
    "lista03[[7]]\n",
    "lista03[[8]]\n",
    "lista03[[9]]    # Esto es así, pues originalmente este objeto fue creado a partir de una matriz."
   ]
  },
  {
   "cell_type": "markdown",
   "metadata": {},
   "source": [
    "#### 3. Añadir nuevos elementos a una lista"
   ]
  },
  {
   "cell_type": "code",
   "execution_count": 12,
   "metadata": {},
   "outputs": [
    {
     "data": {
      "text/html": [
       "<dl>\n",
       "\t<dt>$uno</dt>\n",
       "\t\t<dd>1</dd>\n",
       "\t<dt>$dos</dt>\n",
       "\t\t<dd><ol class=list-inline>\n",
       "\t<li>1</li>\n",
       "\t<li>2</li>\n",
       "\t<li>3</li>\n",
       "\t<li>4</li>\n",
       "\t<li>5</li>\n",
       "\t<li>6</li>\n",
       "</ol>\n",
       "</dd>\n",
       "\t<dt>$tres</dt>\n",
       "\t\t<dd><ol class=list-inline>\n",
       "\t<li>1</li>\n",
       "\t<li>1</li>\n",
       "\t<li>1</li>\n",
       "</ol>\n",
       "</dd>\n",
       "\t<dt>$cuatro</dt>\n",
       "\t\t<dd><ol class=list-inline>\n",
       "\t<li>'lunes'</li>\n",
       "\t<li>'martes'</li>\n",
       "\t<li>'miercoles'</li>\n",
       "\t<li>'jueves'</li>\n",
       "\t<li>'viernes'</li>\n",
       "</ol>\n",
       "</dd>\n",
       "\t<dt>$cinco</dt>\n",
       "\t\t<dd><table>\n",
       "<tbody>\n",
       "\t<tr><td>1</td><td>4</td><td>7</td></tr>\n",
       "\t<tr><td>2</td><td>5</td><td>8</td></tr>\n",
       "\t<tr><td>3</td><td>6</td><td>9</td></tr>\n",
       "</tbody>\n",
       "</table>\n",
       "</dd>\n",
       "</dl>\n"
      ],
      "text/latex": [
       "\\begin{description}\n",
       "\\item[\\$uno] 1\n",
       "\\item[\\$dos] \\begin{enumerate*}\n",
       "\\item 1\n",
       "\\item 2\n",
       "\\item 3\n",
       "\\item 4\n",
       "\\item 5\n",
       "\\item 6\n",
       "\\end{enumerate*}\n",
       "\n",
       "\\item[\\$tres] \\begin{enumerate*}\n",
       "\\item 1\n",
       "\\item 1\n",
       "\\item 1\n",
       "\\end{enumerate*}\n",
       "\n",
       "\\item[\\$cuatro] \\begin{enumerate*}\n",
       "\\item 'lunes'\n",
       "\\item 'martes'\n",
       "\\item 'miercoles'\n",
       "\\item 'jueves'\n",
       "\\item 'viernes'\n",
       "\\end{enumerate*}\n",
       "\n",
       "\\item[\\$cinco] \\begin{tabular}{lll}\n",
       "\t 1 & 4 & 7\\\\\n",
       "\t 2 & 5 & 8\\\\\n",
       "\t 3 & 6 & 9\\\\\n",
       "\\end{tabular}\n",
       "\n",
       "\\end{description}\n"
      ],
      "text/markdown": [
       "$uno\n",
       ":   1\n",
       "$dos\n",
       ":   1. 1\n",
       "2. 2\n",
       "3. 3\n",
       "4. 4\n",
       "5. 5\n",
       "6. 6\n",
       "\n",
       "\n",
       "\n",
       "$tres\n",
       ":   1. 1\n",
       "2. 1\n",
       "3. 1\n",
       "\n",
       "\n",
       "\n",
       "$cuatro\n",
       ":   1. 'lunes'\n",
       "2. 'martes'\n",
       "3. 'miercoles'\n",
       "4. 'jueves'\n",
       "5. 'viernes'\n",
       "\n",
       "\n",
       "\n",
       "$cinco\n",
       ":   \n",
       "| 1 | 4 | 7 |\n",
       "| 2 | 5 | 8 |\n",
       "| 3 | 6 | 9 |\n",
       "\n",
       "\n",
       "\n",
       "\n"
      ],
      "text/plain": [
       "$uno\n",
       "[1] 1\n",
       "\n",
       "$dos\n",
       "[1] 1 2 3 4 5 6\n",
       "\n",
       "$tres\n",
       "[1] 1 1 1\n",
       "\n",
       "$cuatro\n",
       "[1] \"lunes\"     \"martes\"    \"miercoles\" \"jueves\"    \"viernes\"  \n",
       "\n",
       "$cinco\n",
       "     [,1] [,2] [,3]\n",
       "[1,]    1    4    7\n",
       "[2,]    2    5    8\n",
       "[3,]    3    6    9\n"
      ]
     },
     "metadata": {},
     "output_type": "display_data"
    }
   ],
   "source": [
    "lista02$cuatro <- c(\"lunes\",\"martes\",\"miercoles\",\"jueves\",\"viernes\")\n",
    "lista02$cinco <- matrix(1:9, 3, 3)\n",
    "lista02"
   ]
  },
  {
   "cell_type": "code",
   "execution_count": 13,
   "metadata": {},
   "outputs": [
    {
     "data": {
      "text/html": [
       "<dl>\n",
       "\t<dt>$uno</dt>\n",
       "\t\t<dd>1</dd>\n",
       "\t<dt>$dos</dt>\n",
       "\t\t<dd><ol class=list-inline>\n",
       "\t<li>1</li>\n",
       "\t<li>2</li>\n",
       "\t<li>3</li>\n",
       "\t<li>4</li>\n",
       "\t<li>5</li>\n",
       "\t<li>6</li>\n",
       "</ol>\n",
       "</dd>\n",
       "\t<dt>$tres</dt>\n",
       "\t\t<dd><ol class=list-inline>\n",
       "\t<li>1</li>\n",
       "\t<li>1</li>\n",
       "\t<li>1</li>\n",
       "</ol>\n",
       "</dd>\n",
       "\t<dt>$cuatro</dt>\n",
       "\t\t<dd><ol class=list-inline>\n",
       "\t<li>'lunes'</li>\n",
       "\t<li>'martes'</li>\n",
       "\t<li>'miercoles'</li>\n",
       "\t<li>'jueves'</li>\n",
       "\t<li>'viernes'</li>\n",
       "</ol>\n",
       "</dd>\n",
       "\t<dt>$cinco</dt>\n",
       "\t\t<dd><table>\n",
       "<tbody>\n",
       "\t<tr><td>1</td><td>4</td><td>7</td></tr>\n",
       "\t<tr><td>2</td><td>5</td><td>8</td></tr>\n",
       "\t<tr><td>3</td><td>6</td><td>9</td></tr>\n",
       "</tbody>\n",
       "</table>\n",
       "</dd>\n",
       "\t<dt>$seis</dt>\n",
       "\t\t<dd><table>\n",
       "<thead><tr><th scope=col>a</th><th scope=col>b</th><th scope=col>c</th></tr></thead>\n",
       "<tbody>\n",
       "\t<tr><td>1    </td><td>FALSE</td><td>Alpha</td></tr>\n",
       "\t<tr><td>2    </td><td> TRUE</td><td>beta </td></tr>\n",
       "\t<tr><td>3    </td><td> TRUE</td><td>theta</td></tr>\n",
       "</tbody>\n",
       "</table>\n",
       "</dd>\n",
       "</dl>\n"
      ],
      "text/latex": [
       "\\begin{description}\n",
       "\\item[\\$uno] 1\n",
       "\\item[\\$dos] \\begin{enumerate*}\n",
       "\\item 1\n",
       "\\item 2\n",
       "\\item 3\n",
       "\\item 4\n",
       "\\item 5\n",
       "\\item 6\n",
       "\\end{enumerate*}\n",
       "\n",
       "\\item[\\$tres] \\begin{enumerate*}\n",
       "\\item 1\n",
       "\\item 1\n",
       "\\item 1\n",
       "\\end{enumerate*}\n",
       "\n",
       "\\item[\\$cuatro] \\begin{enumerate*}\n",
       "\\item 'lunes'\n",
       "\\item 'martes'\n",
       "\\item 'miercoles'\n",
       "\\item 'jueves'\n",
       "\\item 'viernes'\n",
       "\\end{enumerate*}\n",
       "\n",
       "\\item[\\$cinco] \\begin{tabular}{lll}\n",
       "\t 1 & 4 & 7\\\\\n",
       "\t 2 & 5 & 8\\\\\n",
       "\t 3 & 6 & 9\\\\\n",
       "\\end{tabular}\n",
       "\n",
       "\\item[\\$seis] \\begin{tabular}{r|lll}\n",
       " a & b & c\\\\\n",
       "\\hline\n",
       "\t 1     & FALSE & Alpha\\\\\n",
       "\t 2     &  TRUE & beta \\\\\n",
       "\t 3     &  TRUE & theta\\\\\n",
       "\\end{tabular}\n",
       "\n",
       "\\end{description}\n"
      ],
      "text/markdown": [
       "$uno\n",
       ":   1\n",
       "$dos\n",
       ":   1. 1\n",
       "2. 2\n",
       "3. 3\n",
       "4. 4\n",
       "5. 5\n",
       "6. 6\n",
       "\n",
       "\n",
       "\n",
       "$tres\n",
       ":   1. 1\n",
       "2. 1\n",
       "3. 1\n",
       "\n",
       "\n",
       "\n",
       "$cuatro\n",
       ":   1. 'lunes'\n",
       "2. 'martes'\n",
       "3. 'miercoles'\n",
       "4. 'jueves'\n",
       "5. 'viernes'\n",
       "\n",
       "\n",
       "\n",
       "$cinco\n",
       ":   \n",
       "| 1 | 4 | 7 |\n",
       "| 2 | 5 | 8 |\n",
       "| 3 | 6 | 9 |\n",
       "\n",
       "\n",
       "$seis\n",
       ":   \n",
       "| a | b | c |\n",
       "|---|---|---|\n",
       "| 1     | FALSE | Alpha |\n",
       "| 2     |  TRUE | beta  |\n",
       "| 3     |  TRUE | theta |\n",
       "\n",
       "\n",
       "\n",
       "\n"
      ],
      "text/plain": [
       "$uno\n",
       "[1] 1\n",
       "\n",
       "$dos\n",
       "[1] 1 2 3 4 5 6\n",
       "\n",
       "$tres\n",
       "[1] 1 1 1\n",
       "\n",
       "$cuatro\n",
       "[1] \"lunes\"     \"martes\"    \"miercoles\" \"jueves\"    \"viernes\"  \n",
       "\n",
       "$cinco\n",
       "     [,1] [,2] [,3]\n",
       "[1,]    1    4    7\n",
       "[2,]    2    5    8\n",
       "[3,]    3    6    9\n",
       "\n",
       "$seis\n",
       "  a     b     c\n",
       "1 1 FALSE Alpha\n",
       "2 2  TRUE  beta\n",
       "3 3  TRUE theta\n"
      ]
     },
     "metadata": {},
     "output_type": "display_data"
    }
   ],
   "source": [
    "lista02$seis <- data.frame(a = c(1,2,3), b = c(FALSE, TRUE, TRUE), c = c(\"Alpha\", \"beta\",\"theta\"))\n",
    "lista02"
   ]
  },
  {
   "cell_type": "code",
   "execution_count": 14,
   "metadata": {},
   "outputs": [
    {
     "data": {
      "text/html": [
       "'character'"
      ],
      "text/latex": [
       "'character'"
      ],
      "text/markdown": [
       "'character'"
      ],
      "text/plain": [
       "[1] \"character\""
      ]
     },
     "metadata": {},
     "output_type": "display_data"
    },
    {
     "data": {
      "text/html": [
       "'matrix'"
      ],
      "text/latex": [
       "'matrix'"
      ],
      "text/markdown": [
       "'matrix'"
      ],
      "text/plain": [
       "[1] \"matrix\""
      ]
     },
     "metadata": {},
     "output_type": "display_data"
    },
    {
     "data": {
      "text/html": [
       "'data.frame'"
      ],
      "text/latex": [
       "'data.frame'"
      ],
      "text/markdown": [
       "'data.frame'"
      ],
      "text/plain": [
       "[1] \"data.frame\""
      ]
     },
     "metadata": {},
     "output_type": "display_data"
    }
   ],
   "source": [
    "class(lista02$cuatro)\n",
    "class(lista02$cinco)\n",
    "class(lista02$seis)"
   ]
  },
  {
   "cell_type": "code",
   "execution_count": 15,
   "metadata": {},
   "outputs": [
    {
     "data": {
      "text/html": [
       "<dl>\n",
       "\t<dt>$uno</dt>\n",
       "\t\t<dd>1</dd>\n",
       "\t<dt>$dos</dt>\n",
       "\t\t<dd><ol class=list-inline>\n",
       "\t<li>1</li>\n",
       "\t<li>2</li>\n",
       "\t<li>3</li>\n",
       "\t<li>4</li>\n",
       "\t<li>5</li>\n",
       "\t<li>6</li>\n",
       "</ol>\n",
       "</dd>\n",
       "\t<dt>$tres</dt>\n",
       "\t\t<dd><ol class=list-inline>\n",
       "\t<li>1</li>\n",
       "\t<li>1</li>\n",
       "\t<li>1</li>\n",
       "\t<li>1</li>\n",
       "</ol>\n",
       "</dd>\n",
       "\t<dt>$cuatro</dt>\n",
       "\t\t<dd><ol class=list-inline>\n",
       "\t<li>'lunes'</li>\n",
       "\t<li>'martes'</li>\n",
       "\t<li>'miercoles'</li>\n",
       "\t<li>'jueves'</li>\n",
       "\t<li>'viernes'</li>\n",
       "</ol>\n",
       "</dd>\n",
       "\t<dt>$cinco</dt>\n",
       "\t\t<dd><table>\n",
       "<tbody>\n",
       "\t<tr><td>1</td><td>4</td><td>7</td></tr>\n",
       "\t<tr><td>2</td><td>5</td><td>8</td></tr>\n",
       "\t<tr><td>3</td><td>6</td><td>9</td></tr>\n",
       "</tbody>\n",
       "</table>\n",
       "</dd>\n",
       "\t<dt>$seis</dt>\n",
       "\t\t<dd><table>\n",
       "<thead><tr><th scope=col>a</th><th scope=col>b</th><th scope=col>c</th></tr></thead>\n",
       "<tbody>\n",
       "\t<tr><td>1    </td><td>FALSE</td><td>Alpha</td></tr>\n",
       "\t<tr><td>2    </td><td> TRUE</td><td>beta </td></tr>\n",
       "\t<tr><td>3    </td><td> TRUE</td><td>theta</td></tr>\n",
       "</tbody>\n",
       "</table>\n",
       "</dd>\n",
       "</dl>\n"
      ],
      "text/latex": [
       "\\begin{description}\n",
       "\\item[\\$uno] 1\n",
       "\\item[\\$dos] \\begin{enumerate*}\n",
       "\\item 1\n",
       "\\item 2\n",
       "\\item 3\n",
       "\\item 4\n",
       "\\item 5\n",
       "\\item 6\n",
       "\\end{enumerate*}\n",
       "\n",
       "\\item[\\$tres] \\begin{enumerate*}\n",
       "\\item 1\n",
       "\\item 1\n",
       "\\item 1\n",
       "\\item 1\n",
       "\\end{enumerate*}\n",
       "\n",
       "\\item[\\$cuatro] \\begin{enumerate*}\n",
       "\\item 'lunes'\n",
       "\\item 'martes'\n",
       "\\item 'miercoles'\n",
       "\\item 'jueves'\n",
       "\\item 'viernes'\n",
       "\\end{enumerate*}\n",
       "\n",
       "\\item[\\$cinco] \\begin{tabular}{lll}\n",
       "\t 1 & 4 & 7\\\\\n",
       "\t 2 & 5 & 8\\\\\n",
       "\t 3 & 6 & 9\\\\\n",
       "\\end{tabular}\n",
       "\n",
       "\\item[\\$seis] \\begin{tabular}{r|lll}\n",
       " a & b & c\\\\\n",
       "\\hline\n",
       "\t 1     & FALSE & Alpha\\\\\n",
       "\t 2     &  TRUE & beta \\\\\n",
       "\t 3     &  TRUE & theta\\\\\n",
       "\\end{tabular}\n",
       "\n",
       "\\end{description}\n"
      ],
      "text/markdown": [
       "$uno\n",
       ":   1\n",
       "$dos\n",
       ":   1. 1\n",
       "2. 2\n",
       "3. 3\n",
       "4. 4\n",
       "5. 5\n",
       "6. 6\n",
       "\n",
       "\n",
       "\n",
       "$tres\n",
       ":   1. 1\n",
       "2. 1\n",
       "3. 1\n",
       "4. 1\n",
       "\n",
       "\n",
       "\n",
       "$cuatro\n",
       ":   1. 'lunes'\n",
       "2. 'martes'\n",
       "3. 'miercoles'\n",
       "4. 'jueves'\n",
       "5. 'viernes'\n",
       "\n",
       "\n",
       "\n",
       "$cinco\n",
       ":   \n",
       "| 1 | 4 | 7 |\n",
       "| 2 | 5 | 8 |\n",
       "| 3 | 6 | 9 |\n",
       "\n",
       "\n",
       "$seis\n",
       ":   \n",
       "| a | b | c |\n",
       "|---|---|---|\n",
       "| 1     | FALSE | Alpha |\n",
       "| 2     |  TRUE | beta  |\n",
       "| 3     |  TRUE | theta |\n",
       "\n",
       "\n",
       "\n",
       "\n"
      ],
      "text/plain": [
       "$uno\n",
       "[1] 1\n",
       "\n",
       "$dos\n",
       "[1] 1 2 3 4 5 6\n",
       "\n",
       "$tres\n",
       "[1] 1 1 1 1\n",
       "\n",
       "$cuatro\n",
       "[1] \"lunes\"     \"martes\"    \"miercoles\" \"jueves\"    \"viernes\"  \n",
       "\n",
       "$cinco\n",
       "     [,1] [,2] [,3]\n",
       "[1,]    1    4    7\n",
       "[2,]    2    5    8\n",
       "[3,]    3    6    9\n",
       "\n",
       "$seis\n",
       "  a     b     c\n",
       "1 1 FALSE Alpha\n",
       "2 2  TRUE  beta\n",
       "3 3  TRUE theta\n"
      ]
     },
     "metadata": {},
     "output_type": "display_data"
    }
   ],
   "source": [
    "# También podemos modificar o sustituir un componente de una lista\n",
    "  \n",
    "lista02[3] <- list(c(rep(1,4)))\n",
    "\n",
    "lista02"
   ]
  }
 ],
 "metadata": {
  "kernelspec": {
   "display_name": "R",
   "language": "R",
   "name": "ir"
  },
  "language_info": {
   "codemirror_mode": "r",
   "file_extension": ".r",
   "mimetype": "text/x-r-source",
   "name": "R",
   "pygments_lexer": "r",
   "version": "3.6.1"
  }
 },
 "nbformat": 4,
 "nbformat_minor": 4
}
