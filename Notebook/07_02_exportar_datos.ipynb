{
 "cells": [
  {
   "cell_type": "markdown",
   "metadata": {},
   "source": [
    "## Exportar datos en R"
   ]
  },
  {
   "cell_type": "markdown",
   "metadata": {},
   "source": [
    "2. Exportar datos\n",
    "  \n",
    "2.1. Exportar datos con la funcion write.table()\n",
    " \n",
    "Esta función nos permite exportar un data frame o una matriz como archivos de texto (.txt).\n",
    "  \n",
    "Ejemplo: (OBS: Previamente debemos de contar con un data frame o matriz que exportar)"
   ]
  },
  {
   "cell_type": "code",
   "execution_count": null,
   "metadata": {},
   "outputs": [],
   "source": [
    "setwd(\"E:/ADMIN/Documents/ImportaDatosR\")\n",
    "\n",
    "# Creamos el conjunto de datos que luego vamos a exportar.\n",
    "data01 <- read.table(\"libertad_prensa.txt\", header = TRUE, sep = \",\", dec = \".\")"
   ]
  },
  {
   "cell_type": "code",
   "execution_count": null,
   "metadata": {},
   "outputs": [],
   "source": [
    "# write.table(x = NombreDeTuDataAExportar, file = \"NombreDeLaDataACargar.ConSuExtensión\", DemásArgumentos)\n",
    "  \n",
    "write.table(x = data01, file = \"expodata.txt\", sep = \",\", na = \"NA\", dec = \".\", row.names = TRUE, col.names = TRUE)  "
   ]
  },
  {
   "cell_type": "code",
   "execution_count": null,
   "metadata": {},
   "outputs": [],
   "source": [
    "# Argumentos de la función write.table():\n",
    "# - x         : el nombre del objeto a exportar (en este caso, un data frame o una matriz)\n",
    "# - file      : el nombre o extensión y ruta del archivo creado. Si solo colocamos el nombre, el archivo se crea en el \"wd\". \n",
    "# - sep       : el caracter que se usará como separador de las columnas.\n",
    "# - row.names : argumento que permite incluir (o no) nombre de las filas del data set.\n",
    "# - col.names : argumento que permite incluir (o no) nombe de las columnas del data set.\n",
    "\n",
    "# En nuestro ejemplo, exportamos el objeto \"data01\" a un documento de texto y será¡ guardado en nuestro wd.\n",
    "\n",
    "# Ahora, probaremos cargar/importar el data set exportado\n",
    "\n",
    "expodata <- read.table(file = \"expodata.txt\", header = TRUE, sep = \",\")"
   ]
  },
  {
   "cell_type": "markdown",
   "metadata": {},
   "source": [
    "Exportar datos con la función write.scv()   "
   ]
  },
  {
   "cell_type": "code",
   "execution_count": null,
   "metadata": {},
   "outputs": [],
   "source": [
    "# Esta función nos permite exportar datos a archivos con extensión .csv.\n",
    "\n",
    "# Ejemplo:\n",
    "\n",
    "write.csv(x = data01, file = \"exporta2.csv\") # Exportamos el data set \"data01\" y lo llamamos \"exporta\" con extensión \".csv\"\n",
    "\n",
    "# Probamos cargando/importando el data set importado en formato .csv.\n",
    "\n",
    "exporta2 <- read.csv(\"exporta2.csv\", header = TRUE)      # Usamos read.csv(), la cual es una opción de lectura de la función read.table()\n",
    "head(exporta2)"
   ]
  }
 ],
 "metadata": {
  "kernelspec": {
   "display_name": "R",
   "language": "R",
   "name": "ir"
  },
  "language_info": {
   "codemirror_mode": "r",
   "file_extension": ".r",
   "mimetype": "text/x-r-source",
   "name": "R",
   "pygments_lexer": "r",
   "version": "3.6.1"
  }
 },
 "nbformat": 4,
 "nbformat_minor": 4
}
